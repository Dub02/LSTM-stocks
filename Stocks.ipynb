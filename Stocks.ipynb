{
 "cells": [
  {
   "cell_type": "code",
   "execution_count": 1,
   "id": "142e2a13",
   "metadata": {},
   "outputs": [],
   "source": [
    "import os\n",
    "from pandas_datareader import data as pdr\n",
    "import pandas as pd\n",
    "import numpy as np\n",
    "import yfinance as yf\n",
    "from tqdm import tqdm\n",
    "import requests\n",
    "import urllib.request\n",
    "import re\n",
    "import time\n",
    "import tensorflow as tf\n",
    "import tensorflow.keras as keras\n",
    "from keras.models import Sequential\n",
    "from keras.layers import LSTM\n",
    "from keras.layers import Dropout\n",
    "from keras.layers import Dense\n",
    "from sklearn import svm\n",
    "from sklearn.model_selection import train_test_split\n",
    "from sklearn.ensemble import RandomForestClassifier\n",
    "from sklearn.metrics import precision_score\n",
    "from sklearn import preprocessing\n",
    "from sklearn.preprocessing import MinMaxScaler\n",
    "from datetime import datetime\n",
    "from IPython.display import display, HTML\n",
    "import warnings"
   ]
  },
  {
   "cell_type": "code",
   "execution_count": 16,
   "id": "a4d9186b",
   "metadata": {},
   "outputs": [],
   "source": [
    "warnings.filterwarnings(\"ignore\", category=DeprecationWarning)\n",
    "warnings.simplefilter(action='ignore', category=FutureWarning)\n",
    "yf.pdr_override()\n",
    "pd.set_option('display.max_columns', None)\n",
    "START_DATE = \"2003-08-01\"\n",
    "END_DATE = \"2015-01-01\""
   ]
  },
  {
   "cell_type": "code",
   "execution_count": 3,
   "id": "39684e4e",
   "metadata": {},
   "outputs": [],
   "source": [
    "#Utility function to reformat yahoo finance numbers\n",
    "def data_string_to_float(number_string):\n",
    "    if (\"N/A\" in number_string) or (\"NaN\" in number_string):\n",
    "        return \"N/A\"\n",
    "    elif number_string == \">0\":\n",
    "        return 0\n",
    "    elif \"B\" in number_string:\n",
    "        return float(number_string.replace(\"B\", \"\")) * 1000000000\n",
    "    elif \"M\" in number_string:\n",
    "        return float(number_string.replace(\"M\", \"\")) * 1000000\n",
    "    elif \"K\" in number_string:\n",
    "        return float(number_string.replace(\"K\", \"\")) * 1000\n",
    "    else:\n",
    "        return float(number_string)\n"
   ]
  },
  {
   "cell_type": "code",
   "execution_count": 4,
   "id": "507411ce",
   "metadata": {},
   "outputs": [
    {
     "name": "stdout",
     "output_type": "stream",
     "text": [
      "[*********************100%***********************]  560 of 560 completed\n",
      "\n",
      "141 Failed downloads:\n",
      "- S: Data doesn't exist for startDate = 1059714000, endDate = 1420092000\n",
      "- NTRI: No data found, symbol may be delisted\n",
      "- HCN: No data found for this date range, symbol may be delisted\n",
      "- CCE: No data found for this date range, symbol may be delisted\n",
      "- STI: No data found, symbol may be delisted\n",
      "- ARG: Data doesn't exist for startDate = 1059714000, endDate = 1420092000\n",
      "- TWC: No data found for this date range, symbol may be delisted\n",
      "- WPX: No data found, symbol may be delisted\n",
      "- TSO: No data found for this date range, symbol may be delisted\n",
      "- PX: Data doesn't exist for startDate = 1059714000, endDate = 1420092000\n",
      "- SNDK: No data found for this date range, symbol may be delisted\n",
      "- SAI: Data doesn't exist for startDate = 1059714000, endDate = 1420092000\n",
      "- ARO: No data found for this date range, symbol may be delisted\n",
      "- DPS: No data found for this date range, symbol may be delisted\n",
      "- DTV: No data found, symbol may be delisted\n",
      "- ALXN: No data found, symbol may be delisted\n",
      "- DF: No data found, symbol may be delisted\n",
      "- RAI: No data found for this date range, symbol may be delisted\n",
      "- SD: Data doesn't exist for startDate = 1059714000, endDate = 1420092000\n",
      "- ARNA: No data found, symbol may be delisted\n",
      "- TYC: No data found for this date range, symbol may be delisted\n",
      "- CVC: No data found for this date range, symbol may be delisted\n",
      "- ACT: Data doesn't exist for startDate = 1059714000, endDate = 1420092000\n",
      "- FDO: No data found for this date range, symbol may be delisted\n",
      "- CTL: No data found, symbol may be delisted\n",
      "- KSU: No data found, symbol may be delisted\n",
      "- APOL: No data found for this date range, symbol may be delisted\n",
      "- WIN: No data found, symbol may be delisted\n",
      "- GMCR: No data found for this date range, symbol may be delisted\n",
      "- RTN: No data found, symbol may be delisted\n",
      "- HCBK: No data found for this date range, symbol may be delisted\n",
      "- KRFT: No data found for this date range, symbol may be delisted\n",
      "- PBCT: No data found, symbol may be delisted\n",
      "- AVP: No data found, symbol may be delisted\n",
      "- FLIR: No data found, symbol may be delisted\n",
      "- RDC: No data found, symbol may be delisted\n",
      "- MWV: No data found for this date range, symbol may be delisted\n",
      "- UA: Data doesn't exist for startDate = 1059714000, endDate = 1420092000\n",
      "- APC: No data found, symbol may be delisted\n",
      "- HCP: Data doesn't exist for startDate = 1059714000, endDate = 1420092000\n",
      "- SFLY: No data found, symbol may be delisted\n",
      "- MHFI: No data found for this date range, symbol may be delisted\n",
      "- HTZ: Data doesn't exist for startDate = 1059714000, endDate = 1420092000\n",
      "- ADT: Data doesn't exist for startDate = 1059714000, endDate = 1420092000\n",
      "- CFN: No data found for this date range, symbol may be delisted\n",
      "- BTU: Data doesn't exist for startDate = 1059714000, endDate = 1420092000\n",
      "- CELG: No data found, symbol may be delisted\n",
      "- HRS: No data found, symbol may be delisted\n",
      "- COG: No data found, symbol may be delisted\n",
      "- JEC: No data found, symbol may be delisted\n",
      "- CHK: Data doesn't exist for startDate = 1059714000, endDate = 1420092000\n",
      "- DNR: No data found, symbol may be delisted\n",
      "- FB: No data found, symbol may be delisted\n",
      "- WPO: No data found for this date range, symbol may be delisted\n",
      "- LIFE: Data doesn't exist for startDate = 1059714000, endDate = 1420092000\n",
      "- NE: Data doesn't exist for startDate = 1059714000, endDate = 1420092000\n",
      "- MJN: No data found for this date range, symbol may be delisted\n",
      "- ZLC: No data found for this date range, symbol may be delisted\n",
      "- DSW: No data found, symbol may be delisted\n",
      "- VPRT: No data found for this date range, symbol may be delisted\n",
      "- ACE: Data doesn't exist for startDate = 1059714000, endDate = 1420092000\n",
      "- JDSU: No data found for this date range, symbol may be delisted\n",
      "- BBRY: No data found for this date range, symbol may be delisted\n",
      "- DO: Data doesn't exist for startDate = 1059714000, endDate = 1420092000\n",
      "- LLTC: No data found for this date range, symbol may be delisted\n",
      "- BKS: No data found, symbol may be delisted\n",
      "- TE: No data found for this date range, symbol may be delisted\n",
      "- TSS: No data found, symbol may be delisted\n",
      "- SPLS: No data found for this date range, symbol may be delisted\n",
      "- BEAM: Data doesn't exist for startDate = 1059714000, endDate = 1420092000\n",
      "- TIBX: No data found for this date range, symbol may be delisted\n",
      "- SNE: No data found, symbol may be delisted\n",
      "- HSP: No data found for this date range, symbol may be delisted\n",
      "- TMK: No data found, symbol may be delisted\n",
      "- QEP: No data found, symbol may be delisted\n",
      "- ALTR: Data doesn't exist for startDate = 1059714000, endDate = 1420092000\n",
      "- DISCA: No data found, symbol may be delisted\n",
      "- PCL: No data found for this date range, symbol may be delisted\n",
      "- SHLD: Data doesn't exist for startDate = 1059714000, endDate = 1420092000\n",
      "- BRCM: No data found for this date range, symbol may be delisted\n",
      "- CAB: Data doesn't exist for startDate = 1059714000, endDate = 1420092000\n",
      "- LM: No data found, symbol may be delisted\n",
      "- AGN: No data found, symbol may be delisted\n",
      "- BLL: No data found, symbol may be delisted\n",
      "- LTD: No data found for this date range, symbol may be delisted\n",
      "- FRX: No data found, symbol may be delisted\n",
      "- MON: Data doesn't exist for startDate = 1059714000, endDate = 1420092000\n",
      "- BBT: No data found, symbol may be delisted\n",
      "- ANN: No data found for this date range, symbol may be delisted\n",
      "- TEG: Data doesn't exist for startDate = 1059714000, endDate = 1420092000\n",
      "- TIF: No data found, symbol may be delisted\n",
      "- PCP: Data doesn't exist for startDate = 1059714000, endDate = 1420092000\n",
      "- ETFC: No data found, symbol may be delisted\n",
      "- WAG: No data found for this date range, symbol may be delisted\n",
      "- SIAL: No data found for this date range, symbol may be delisted\n",
      "- XL: Data doesn't exist for startDate = 1059714000, endDate = 1420092000\n",
      "- NBL: No data found, symbol may be delisted\n",
      "- NU: Data doesn't exist for startDate = 1059714000, endDate = 1420092000\n",
      "- WYN: No data found for this date range, symbol may be delisted\n",
      "- ACI: Data doesn't exist for startDate = 1059714000, endDate = 1420092000\n",
      "- JOSB: No data found for this date range, symbol may be delisted\n",
      "- STJ: No data found for this date range, symbol may be delisted\n",
      "- COH: Data doesn't exist for startDate = 1059714000, endDate = 1420092000\n",
      "- PLL: Data doesn't exist for startDate = 1059714000, endDate = 1420092000\n",
      "- ZMH: No data found for this date range, symbol may be delisted\n",
      "- SYMC: No data found, symbol may be delisted\n",
      "- DNB: Data doesn't exist for startDate = 1059714000, endDate = 1420092000\n",
      "- SE: Data doesn't exist for startDate = 1059714000, endDate = 1420092000\n",
      "- LUK: No data found for this date range, symbol may be delisted\n",
      "- PETM: Data doesn't exist for startDate = 1059714000, endDate = 1420092000\n",
      "- VAR: No data found, symbol may be delisted\n",
      "- VIAB: No data found, symbol may be delisted\n",
      "- CERN: No data found, symbol may be delisted\n",
      "- MYL: No data found, symbol may be delisted\n",
      "- WFM: No data found for this date range, symbol may be delisted\n",
      "- XLNX: No data found, symbol may be delisted\n",
      "- SCG: Data doesn't exist for startDate = 1059714000, endDate = 1420092000\n",
      "- VITC: No data found for this date range, symbol may be delisted\n",
      "- RHT: No data found, symbol may be delisted\n",
      "- DELL: Data doesn't exist for startDate = 1059714000, endDate = 1420092000\n",
      "- FTR: No data found, symbol may be delisted\n",
      "- PVTB: No data found for this date range, symbol may be delisted\n",
      "- IR: Data doesn't exist for startDate = 1059714000, endDate = 1420092000\n",
      "- HOT: No data found for this date range, symbol may be delisted\n",
      "- ESV: No data found, symbol may be delisted\n",
      "- CBS: No data found, symbol may be delisted\n",
      "- CBG: No data found for this date range, symbol may be delisted\n",
      "- DLPH: No data found, symbol may be delisted\n",
      "- JOY: No data found for this date range, symbol may be delisted\n",
      "- ZNGA: No data found, symbol may be delisted\n",
      "- BHI: Data doesn't exist for startDate = 1059714000, endDate = 1420092000\n",
      "- UTX: No data found, symbol may be delisted\n",
      "- WLP: No data found for this date range, symbol may be delisted\n",
      "- JCP: No data found, symbol may be delisted\n",
      "- PCLN: No data found for this date range, symbol may be delisted\n",
      "- SWY: No data found for this date range, symbol may be delisted\n",
      "- LO: No data found for this date range, symbol may be delisted\n",
      "- CAM: No data found for this date range, symbol may be delisted\n",
      "- BCR: No data found for this date range, symbol may be delisted\n",
      "- DOW: Data doesn't exist for startDate = 1059714000, endDate = 1420092000\n",
      "- YHOO: No data found for this date range, symbol may be delisted\n"
     ]
    }
   ],
   "source": [
    "#Get list of tickers and find price data\n",
    "statspath = \"C://Users//nickd//Downloads//intraQuarter//_KeyStats//\"\n",
    "ticker_list = os.listdir(statspath)\n",
    "all_data = pdr.get_data_yahoo(ticker_list, START_DATE, END_DATE)\n",
    "stock_data = all_data[\"Adj Close\"]"
   ]
  },
  {
   "cell_type": "code",
   "execution_count": 5,
   "id": "5e36fe3f",
   "metadata": {},
   "outputs": [
    {
     "name": "stderr",
     "output_type": "stream",
     "text": [
      "C:\\Users\\nickd\\AppData\\Local\\Temp\\ipykernel_2992\\4029096740.py:1: SettingWithCopyWarning: \n",
      "A value is trying to be set on a copy of a slice from a DataFrame\n",
      "\n",
      "See the caveats in the documentation: https://pandas.pydata.org/pandas-docs/stable/user_guide/indexing.html#returning-a-view-versus-a-copy\n",
      "  stock_data.dropna(how=\"all\", axis=1, inplace=True)\n",
      "C:\\Users\\nickd\\AppData\\Local\\Temp\\ipykernel_2992\\4029096740.py:6: SettingWithCopyWarning: \n",
      "A value is trying to be set on a copy of a slice from a DataFrame\n",
      "\n",
      "See the caveats in the documentation: https://pandas.pydata.org/pandas-docs/stable/user_guide/indexing.html#returning-a-view-versus-a-copy\n",
      "  stock_data.ffill(inplace=True)\n"
     ]
    },
    {
     "name": "stdout",
     "output_type": "stream",
     "text": [
      "141 tickers are missing: \n",
      " ['ace', 'aci', 'act', 'adt', 'agn', 'altr', 'alxn', 'ann', 'apc', 'apol', 'arg', 'arna', 'aro', 'avp', 'bbry', 'bbt', 'bcr', 'beam', 'bhi', 'bks', 'bll', 'brcm', 'btu', 'cab', 'cam', 'cbg', 'cbs', 'cce', 'celg', 'cern', 'cfn', 'chk', 'cog', 'coh', 'ctl', 'cvc', 'dell', 'df', 'disca', 'dlph', 'dnb', 'dnr', 'do', 'dow', 'dps', 'dsw', 'dtv', 'esv', 'etfc', 'fb', 'fdo', 'flir', 'frx', 'ftr', 'gmcr', 'hcbk', 'hcn', 'hcp', 'hot', 'hrs', 'hsp', 'htz', 'ir', 'jcp', 'jdsu', 'jec', 'josb', 'joy', 'krft', 'ksu', 'life', 'lltc', 'lm', 'lo', 'ltd', 'luk', 'mhfi', 'mjn', 'mon', 'mwv', 'myl', 'nbl', 'ne', 'ntri', 'nu', 'pbct', 'pcl', 'pcln', 'pcp', 'petm', 'pll', 'pvtb', 'px', 'qep', 'rai', 'rdc', 'rht', 'rtn', 's', 'sai', 'scg', 'sd', 'se', 'sfly', 'shld', 'sial', 'sndk', 'sne', 'spls', 'sti', 'stj', 'swy', 'symc', 'te', 'teg', 'tibx', 'tif', 'tmk', 'tso', 'tss', 'twc', 'tyc', 'ua', 'utx', 'var', 'viab', 'vitc', 'vprt', 'wag', 'wfm', 'win', 'wlp', 'wpo', 'wpx', 'wyn', 'xl', 'xlnx', 'yhoo', 'zlc', 'zmh', 'znga'] \n"
     ]
    }
   ],
   "source": [
    "stock_data.dropna(how=\"all\", axis=1, inplace=True)\n",
    "missing_tickers = [\n",
    "    ticker for ticker in ticker_list if ticker.upper() not in stock_data.columns\n",
    "]\n",
    "print(f\"{len(missing_tickers)} tickers are missing: \\n {missing_tickers} \")\n",
    "stock_data.ffill(inplace=True)\n",
    "stock_data.to_csv(\"stock_prices.csv\")"
   ]
  },
  {
   "cell_type": "code",
   "execution_count": 6,
   "id": "89a7d8aa",
   "metadata": {},
   "outputs": [
    {
     "name": "stdout",
     "output_type": "stream",
     "text": [
      "[*********************100%***********************]  1 of 1 completed\n"
     ]
    }
   ],
   "source": [
    "index_data = pdr.get_data_yahoo(\"SPY\", start=START_DATE, end=END_DATE)\n",
    "index_data.to_csv(\"sp500_index.csv\")"
   ]
  },
  {
   "cell_type": "code",
   "execution_count": 7,
   "id": "48e67220",
   "metadata": {},
   "outputs": [
    {
     "name": "stdout",
     "output_type": "stream",
     "text": [
      "[*********************100%***********************]  1 of 1 completed\n",
      "[*********************100%***********************]  1 of 1 completed\n",
      "[*********************100%***********************]  1 of 1 completed\n",
      "[*********************100%***********************]  1 of 1 completed\n",
      "[*********************100%***********************]  1 of 1 completed\n",
      "[*********************100%***********************]  1 of 1 completed\n",
      "[*********************100%***********************]  1 of 1 completed\n",
      "\n",
      "1 Failed download:\n",
      "- ACE: Data doesn't exist for startDate = 1059714000, endDate = 1420092000\n",
      "No data for ACE\n",
      "[*********************100%***********************]  1 of 1 completed\n",
      "\n",
      "1 Failed download:\n",
      "- ACI: Data doesn't exist for startDate = 1059714000, endDate = 1420092000\n",
      "No data for ACI\n",
      "[*********************100%***********************]  1 of 1 completed\n",
      "[*********************100%***********************]  1 of 1 completed\n",
      "\n",
      "1 Failed download:\n",
      "- ACT: Data doesn't exist for startDate = 1059714000, endDate = 1420092000\n",
      "No data for ACT\n",
      "[*********************100%***********************]  1 of 1 completed\n",
      "[*********************100%***********************]  1 of 1 completed\n",
      "[*********************100%***********************]  1 of 1 completed\n",
      "[*********************100%***********************]  1 of 1 completed\n",
      "[*********************100%***********************]  1 of 1 completed\n",
      "[*********************100%***********************]  1 of 1 completed\n",
      "\n",
      "1 Failed download:\n",
      "- ADT: Data doesn't exist for startDate = 1059714000, endDate = 1420092000\n",
      "No data for ADT\n",
      "[*********************100%***********************]  1 of 1 completed\n",
      "[*********************100%***********************]  1 of 1 completed\n",
      "[*********************100%***********************]  1 of 1 completed\n",
      "[*********************100%***********************]  1 of 1 completed\n",
      "[*********************100%***********************]  1 of 1 completed\n",
      "[*********************100%***********************]  1 of 1 completed\n",
      "[*********************100%***********************]  1 of 1 completed\n",
      "\n",
      "1 Failed download:\n",
      "- AGN: No data found, symbol may be delisted\n",
      "No data for AGN\n",
      "[*********************100%***********************]  1 of 1 completed\n",
      "[*********************100%***********************]  1 of 1 completed\n",
      "[*********************100%***********************]  1 of 1 completed\n",
      "[*********************100%***********************]  1 of 1 completed\n",
      "[*********************100%***********************]  1 of 1 completed\n",
      "[*********************100%***********************]  1 of 1 completed\n",
      "\n",
      "1 Failed download:\n",
      "- ALTR: Data doesn't exist for startDate = 1059714000, endDate = 1420092000\n",
      "No data for ALTR\n",
      "[*********************100%***********************]  1 of 1 completed\n",
      "\n",
      "1 Failed download:\n",
      "- ALXN: No data found, symbol may be delisted\n",
      "No data for ALXN\n",
      "[*********************100%***********************]  1 of 1 completed\n",
      "[*********************100%***********************]  1 of 1 completed\n",
      "[*********************100%***********************]  1 of 1 completed\n",
      "[*********************100%***********************]  1 of 1 completed\n",
      "[*********************100%***********************]  1 of 1 completed\n",
      "[*********************100%***********************]  1 of 1 completed\n",
      "[*********************100%***********************]  1 of 1 completed\n",
      "[*********************100%***********************]  1 of 1 completed\n",
      "[*********************100%***********************]  1 of 1 completed\n",
      "\n",
      "1 Failed download:\n",
      "- ANN: No data found for this date range, symbol may be delisted\n",
      "No data for ANN\n",
      "[*********************100%***********************]  1 of 1 completed\n",
      "[*********************100%***********************]  1 of 1 completed\n",
      "[*********************100%***********************]  1 of 1 completed\n",
      "\n",
      "1 Failed download:\n",
      "- APC: No data found, symbol may be delisted\n",
      "No data for APC\n",
      "[*********************100%***********************]  1 of 1 completed\n",
      "[*********************100%***********************]  1 of 1 completed\n",
      "[*********************100%***********************]  1 of 1 completed\n",
      "\n",
      "1 Failed download:\n",
      "- APOL: No data found for this date range, symbol may be delisted\n",
      "No data for APOL\n",
      "[*********************100%***********************]  1 of 1 completed\n",
      "\n",
      "1 Failed download:\n",
      "- ARG: Data doesn't exist for startDate = 1059714000, endDate = 1420092000\n",
      "No data for ARG\n",
      "[*********************100%***********************]  1 of 1 completed\n",
      "\n",
      "1 Failed download:\n",
      "- ARNA: No data found, symbol may be delisted\n",
      "No data for ARNA\n",
      "[*********************100%***********************]  1 of 1 completed\n",
      "\n",
      "1 Failed download:\n",
      "- ARO: No data found for this date range, symbol may be delisted\n",
      "No data for ARO\n",
      "[*********************100%***********************]  1 of 1 completed\n",
      "[*********************100%***********************]  1 of 1 completed\n",
      "[*********************100%***********************]  1 of 1 completed\n",
      "[*********************100%***********************]  1 of 1 completed\n",
      "\n",
      "1 Failed download:\n",
      "- AVP: No data found, symbol may be delisted\n",
      "No data for AVP\n",
      "[*********************100%***********************]  1 of 1 completed\n",
      "[*********************100%***********************]  1 of 1 completed\n",
      "[*********************100%***********************]  1 of 1 completed\n",
      "[*********************100%***********************]  1 of 1 completed\n",
      "[*********************100%***********************]  1 of 1 completed\n",
      "[*********************100%***********************]  1 of 1 completed\n",
      "[*********************100%***********************]  1 of 1 completed\n",
      "[*********************100%***********************]  1 of 1 completed\n",
      "\n",
      "1 Failed download:\n",
      "- BBRY: No data found for this date range, symbol may be delisted\n",
      "No data for BBRY\n",
      "[*********************100%***********************]  1 of 1 completed\n",
      "\n",
      "1 Failed download:\n",
      "- BBT: No data found, symbol may be delisted\n",
      "No data for BBT\n",
      "[*********************100%***********************]  1 of 1 completed\n",
      "[*********************100%***********************]  1 of 1 completed\n",
      "\n",
      "1 Failed download:\n",
      "- BCR: No data found for this date range, symbol may be delisted\n",
      "No data for BCR\n",
      "[*********************100%***********************]  1 of 1 completed\n",
      "[*********************100%***********************]  1 of 1 completed\n",
      "\n",
      "1 Failed download:\n",
      "- BEAM: Data doesn't exist for startDate = 1059714000, endDate = 1420092000\n",
      "No data for BEAM\n",
      "[*********************100%***********************]  1 of 1 completed\n",
      "[*********************100%***********************]  1 of 1 completed\n",
      "[*********************100%***********************]  1 of 1 completed\n",
      "\n",
      "1 Failed download:\n",
      "- BHI: Data doesn't exist for startDate = 1059714000, endDate = 1420092000\n",
      "No data for BHI\n",
      "[*********************100%***********************]  1 of 1 completed\n",
      "[*********************100%***********************]  1 of 1 completed\n",
      "[*********************100%***********************]  1 of 1 completed\n",
      "[*********************100%***********************]  1 of 1 completed\n",
      "\n",
      "1 Failed download:\n",
      "- BKS: No data found, symbol may be delisted\n",
      "No data for BKS\n",
      "[*********************100%***********************]  1 of 1 completed\n",
      "[*********************100%***********************]  1 of 1 completed\n",
      "\n",
      "1 Failed download:\n",
      "- BLL: No data found, symbol may be delisted\n",
      "No data for BLL\n",
      "[*********************100%***********************]  1 of 1 completed\n",
      "[*********************100%***********************]  1 of 1 completed\n",
      "[*********************100%***********************]  1 of 1 completed\n",
      "[*********************100%***********************]  1 of 1 completed\n",
      "\n",
      "1 Failed download:\n",
      "- BRCM: No data found for this date range, symbol may be delisted\n",
      "No data for BRCM\n",
      "[*********************100%***********************]  1 of 1 completed\n",
      "[*********************100%***********************]  1 of 1 completed\n",
      "[*********************100%***********************]  1 of 1 completed\n",
      "\n",
      "1 Failed download:\n",
      "- BTU: Data doesn't exist for startDate = 1059714000, endDate = 1420092000\n",
      "No data for BTU\n",
      "[*********************100%***********************]  1 of 1 completed\n",
      "[*********************100%***********************]  1 of 1 completed\n",
      "[*********************100%***********************]  1 of 1 completed\n",
      "[*********************100%***********************]  1 of 1 completed\n"
     ]
    },
    {
     "name": "stdout",
     "output_type": "stream",
     "text": [
      "[*********************100%***********************]  1 of 1 completed\n",
      "\n",
      "1 Failed download:\n",
      "- CAB: Data doesn't exist for startDate = 1059714000, endDate = 1420092000\n",
      "No data for CAB\n",
      "[*********************100%***********************]  1 of 1 completed\n",
      "[*********************100%***********************]  1 of 1 completed\n",
      "[*********************100%***********************]  1 of 1 completed\n",
      "\n",
      "1 Failed download:\n",
      "- CAM: No data found for this date range, symbol may be delisted\n",
      "No data for CAM\n",
      "[*********************100%***********************]  1 of 1 completed\n",
      "[*********************100%***********************]  1 of 1 completed\n",
      "[*********************100%***********************]  1 of 1 completed\n",
      "[*********************100%***********************]  1 of 1 completed\n",
      "\n",
      "1 Failed download:\n",
      "- CBG: No data found for this date range, symbol may be delisted\n",
      "No data for CBG\n",
      "[*********************100%***********************]  1 of 1 completed\n",
      "\n",
      "1 Failed download:\n",
      "- CBS: No data found, symbol may be delisted\n",
      "No data for CBS\n",
      "[*********************100%***********************]  1 of 1 completed\n",
      "\n",
      "1 Failed download:\n",
      "- CCE: No data found for this date range, symbol may be delisted\n",
      "No data for CCE\n",
      "[*********************100%***********************]  1 of 1 completed\n",
      "[*********************100%***********************]  1 of 1 completed\n",
      "[*********************100%***********************]  1 of 1 completed\n",
      "\n",
      "1 Failed download:\n",
      "- CELG: No data found, symbol may be delisted\n",
      "No data for CELG\n",
      "[*********************100%***********************]  1 of 1 completed\n",
      "\n",
      "1 Failed download:\n",
      "- CERN: No data found, symbol may be delisted\n",
      "No data for CERN\n",
      "[*********************100%***********************]  1 of 1 completed\n",
      "[*********************100%***********************]  1 of 1 completed\n",
      "\n",
      "1 Failed download:\n",
      "- CFN: No data found for this date range, symbol may be delisted\n",
      "No data for CFN\n",
      "[*********************100%***********************]  1 of 1 completed\n",
      "\n",
      "1 Failed download:\n",
      "- CHK: Data doesn't exist for startDate = 1059714000, endDate = 1420092000\n",
      "No data for CHK\n",
      "[*********************100%***********************]  1 of 1 completed\n",
      "[*********************100%***********************]  1 of 1 completed\n",
      "[*********************100%***********************]  1 of 1 completed\n",
      "[*********************100%***********************]  1 of 1 completed\n",
      "[*********************100%***********************]  1 of 1 completed\n",
      "[*********************100%***********************]  1 of 1 completed\n",
      "[*********************100%***********************]  1 of 1 completed\n",
      "[*********************100%***********************]  1 of 1 completed\n",
      "[*********************100%***********************]  1 of 1 completed\n",
      "[*********************100%***********************]  1 of 1 completed\n",
      "[*********************100%***********************]  1 of 1 completed\n",
      "[*********************100%***********************]  1 of 1 completed\n",
      "[*********************100%***********************]  1 of 1 completed\n",
      "[*********************100%***********************]  1 of 1 completed\n",
      "[*********************100%***********************]  1 of 1 completed\n",
      "[*********************100%***********************]  1 of 1 completed\n",
      "[*********************100%***********************]  1 of 1 completed\n",
      "[*********************100%***********************]  1 of 1 completed\n",
      "\n",
      "1 Failed download:\n",
      "- COG: No data found, symbol may be delisted\n",
      "No data for COG\n",
      "[*********************100%***********************]  1 of 1 completed\n",
      "\n",
      "1 Failed download:\n",
      "- COH: Data doesn't exist for startDate = 1059714000, endDate = 1420092000\n",
      "No data for COH\n",
      "[*********************100%***********************]  1 of 1 completed\n",
      "[*********************100%***********************]  1 of 1 completed\n",
      "[*********************100%***********************]  1 of 1 completed\n",
      "[*********************100%***********************]  1 of 1 completed\n",
      "[*********************100%***********************]  1 of 1 completed\n",
      "[*********************100%***********************]  1 of 1 completed\n",
      "[*********************100%***********************]  1 of 1 completed\n",
      "[*********************100%***********************]  1 of 1 completed\n",
      "[*********************100%***********************]  1 of 1 completed\n",
      "[*********************100%***********************]  1 of 1 completed\n",
      "[*********************100%***********************]  1 of 1 completed\n",
      "\n",
      "1 Failed download:\n",
      "- CTL: No data found, symbol may be delisted\n",
      "No data for CTL\n",
      "[*********************100%***********************]  1 of 1 completed\n",
      "[*********************100%***********************]  1 of 1 completed\n",
      "[*********************100%***********************]  1 of 1 completed\n",
      "\n",
      "1 Failed download:\n",
      "- CVC: No data found for this date range, symbol may be delisted\n",
      "No data for CVC\n",
      "[*********************100%***********************]  1 of 1 completed\n",
      "[*********************100%***********************]  1 of 1 completed\n",
      "[*********************100%***********************]  1 of 1 completed\n",
      "[*********************100%***********************]  1 of 1 completed\n",
      "[*********************100%***********************]  1 of 1 completed\n",
      "[*********************100%***********************]  1 of 1 completed\n",
      "[*********************100%***********************]  1 of 1 completed\n",
      "[*********************100%***********************]  1 of 1 completed\n",
      "\n",
      "1 Failed download:\n",
      "- DELL: Data doesn't exist for startDate = 1059714000, endDate = 1420092000\n",
      "No data for DELL\n",
      "[*********************100%***********************]  1 of 1 completed\n",
      "\n",
      "1 Failed download:\n",
      "- DF: No data found, symbol may be delisted\n",
      "No data for DF\n",
      "[*********************100%***********************]  1 of 1 completed\n",
      "[*********************100%***********************]  1 of 1 completed\n",
      "[*********************100%***********************]  1 of 1 completed\n",
      "[*********************100%***********************]  1 of 1 completed\n",
      "[*********************100%***********************]  1 of 1 completed\n",
      "[*********************100%***********************]  1 of 1 completed\n",
      "[*********************100%***********************]  1 of 1 completed\n",
      "\n",
      "1 Failed download:\n",
      "- DISCA: No data found, symbol may be delisted\n",
      "No data for DISCA\n",
      "[*********************100%***********************]  1 of 1 completed\n",
      "[*********************100%***********************]  1 of 1 completed\n",
      "\n",
      "1 Failed download:\n",
      "- DLPH: No data found, symbol may be delisted\n",
      "No data for DLPH\n",
      "[*********************100%***********************]  1 of 1 completed\n",
      "[*********************100%***********************]  1 of 1 completed\n",
      "[*********************100%***********************]  1 of 1 completed\n",
      "\n",
      "1 Failed download:\n",
      "- DNB: Data doesn't exist for startDate = 1059714000, endDate = 1420092000\n",
      "No data for DNB\n",
      "[*********************100%***********************]  1 of 1 completed\n",
      "\n",
      "1 Failed download:\n",
      "- DNR: No data found, symbol may be delisted\n",
      "No data for DNR\n",
      "[*********************100%***********************]  1 of 1 completed\n",
      "\n",
      "1 Failed download:\n",
      "- DO: Data doesn't exist for startDate = 1059714000, endDate = 1420092000\n",
      "No data for DO\n",
      "[*********************100%***********************]  1 of 1 completed\n",
      "[*********************100%***********************]  1 of 1 completed\n",
      "\n",
      "1 Failed download:\n",
      "- DOW: Data doesn't exist for startDate = 1059714000, endDate = 1420092000\n",
      "No data for DOW\n",
      "[*********************100%***********************]  1 of 1 completed\n",
      "\n",
      "1 Failed download:\n",
      "- DPS: No data found for this date range, symbol may be delisted\n",
      "No data for DPS\n",
      "[*********************100%***********************]  1 of 1 completed\n",
      "[*********************100%***********************]  1 of 1 completed\n",
      "\n",
      "1 Failed download:\n",
      "- DSW: No data found, symbol may be delisted\n",
      "No data for DSW\n",
      "[*********************100%***********************]  1 of 1 completed\n",
      "[*********************100%***********************]  1 of 1 completed\n",
      "\n",
      "1 Failed download:\n",
      "- DTV: No data found, symbol may be delisted\n",
      "No data for DTV\n",
      "[*********************100%***********************]  1 of 1 completed\n",
      "[*********************100%***********************]  1 of 1 completed\n",
      "[*********************100%***********************]  1 of 1 completed\n",
      "[*********************100%***********************]  1 of 1 completed\n",
      "[*********************100%***********************]  1 of 1 completed\n"
     ]
    },
    {
     "name": "stdout",
     "output_type": "stream",
     "text": [
      "[*********************100%***********************]  1 of 1 completed\n",
      "[*********************100%***********************]  1 of 1 completed\n",
      "[*********************100%***********************]  1 of 1 completed\n",
      "[*********************100%***********************]  1 of 1 completed\n",
      "[*********************100%***********************]  1 of 1 completed\n",
      "[*********************100%***********************]  1 of 1 completed\n",
      "[*********************100%***********************]  1 of 1 completed\n",
      "[*********************100%***********************]  1 of 1 completed\n",
      "[*********************100%***********************]  1 of 1 completed\n",
      "[*********************100%***********************]  1 of 1 completed\n",
      "[*********************100%***********************]  1 of 1 completed\n",
      "[*********************100%***********************]  1 of 1 completed\n",
      "[*********************100%***********************]  1 of 1 completed\n",
      "[*********************100%***********************]  1 of 1 completed\n",
      "\n",
      "1 Failed download:\n",
      "- ESV: No data found, symbol may be delisted\n",
      "No data for ESV\n",
      "[*********************100%***********************]  1 of 1 completed\n",
      "\n",
      "1 Failed download:\n",
      "- ETFC: No data found, symbol may be delisted\n",
      "No data for ETFC\n",
      "[*********************100%***********************]  1 of 1 completed\n",
      "[*********************100%***********************]  1 of 1 completed\n",
      "[*********************100%***********************]  1 of 1 completed\n",
      "[*********************100%***********************]  1 of 1 completed\n",
      "[*********************100%***********************]  1 of 1 completed\n",
      "[*********************100%***********************]  1 of 1 completed\n",
      "[*********************100%***********************]  1 of 1 completed\n",
      "[*********************100%***********************]  1 of 1 completed\n",
      "[*********************100%***********************]  1 of 1 completed\n",
      "[*********************100%***********************]  1 of 1 completed\n",
      "\n",
      "1 Failed download:\n",
      "- FB: No data found, symbol may be delisted\n",
      "No data for FB\n",
      "[*********************100%***********************]  1 of 1 completed\n",
      "[*********************100%***********************]  1 of 1 completed\n",
      "\n",
      "1 Failed download:\n",
      "- FDO: No data found for this date range, symbol may be delisted\n",
      "No data for FDO\n",
      "[*********************100%***********************]  1 of 1 completed\n",
      "[*********************100%***********************]  1 of 1 completed\n",
      "[*********************100%***********************]  1 of 1 completed\n",
      "[*********************100%***********************]  1 of 1 completed\n",
      "[*********************100%***********************]  1 of 1 completed\n",
      "[*********************100%***********************]  1 of 1 completed\n",
      "[*********************100%***********************]  1 of 1 completed\n",
      "[*********************100%***********************]  1 of 1 completed\n",
      "[*********************100%***********************]  1 of 1 completed\n",
      "\n",
      "1 Failed download:\n",
      "- FLIR: No data found, symbol may be delisted\n",
      "No data for FLIR\n",
      "[*********************100%***********************]  1 of 1 completed\n",
      "[*********************100%***********************]  1 of 1 completed\n",
      "[*********************100%***********************]  1 of 1 completed\n",
      "[*********************100%***********************]  1 of 1 completed\n",
      "[*********************100%***********************]  1 of 1 completed\n",
      "[*********************100%***********************]  1 of 1 completed\n",
      "\n",
      "1 Failed download:\n",
      "- FRX: No data found, symbol may be delisted\n",
      "No data for FRX\n",
      "[*********************100%***********************]  1 of 1 completed\n",
      "[*********************100%***********************]  1 of 1 completed\n",
      "[*********************100%***********************]  1 of 1 completed\n",
      "\n",
      "1 Failed download:\n",
      "- FTR: No data found, symbol may be delisted\n",
      "No data for FTR\n",
      "[*********************100%***********************]  1 of 1 completed\n",
      "[*********************100%***********************]  1 of 1 completed\n",
      "[*********************100%***********************]  1 of 1 completed\n",
      "[*********************100%***********************]  1 of 1 completed\n",
      "[*********************100%***********************]  1 of 1 completed\n",
      "[*********************100%***********************]  1 of 1 completed\n",
      "[*********************100%***********************]  1 of 1 completed\n",
      "[*********************100%***********************]  1 of 1 completed\n",
      "[*********************100%***********************]  1 of 1 completed\n",
      "[*********************100%***********************]  1 of 1 completed\n",
      "\n",
      "1 Failed download:\n",
      "- GMCR: No data found for this date range, symbol may be delisted\n",
      "No data for GMCR\n",
      "[*********************100%***********************]  1 of 1 completed\n",
      "[*********************100%***********************]  1 of 1 completed\n",
      "[*********************100%***********************]  1 of 1 completed\n",
      "[*********************100%***********************]  1 of 1 completed\n",
      "[*********************100%***********************]  1 of 1 completed\n",
      "[*********************100%***********************]  1 of 1 completed\n",
      "[*********************100%***********************]  1 of 1 completed\n",
      "[*********************100%***********************]  1 of 1 completed\n",
      "[*********************100%***********************]  1 of 1 completed\n",
      "[*********************100%***********************]  1 of 1 completed\n",
      "[*********************100%***********************]  1 of 1 completed\n",
      "[*********************100%***********************]  1 of 1 completed\n",
      "[*********************100%***********************]  1 of 1 completed\n",
      "[*********************100%***********************]  1 of 1 completed\n",
      "[*********************100%***********************]  1 of 1 completed\n",
      "[*********************100%***********************]  1 of 1 completed\n",
      "\n",
      "1 Failed download:\n",
      "- HCBK: No data found for this date range, symbol may be delisted\n",
      "No data for HCBK\n",
      "[*********************100%***********************]  1 of 1 completed\n",
      "\n",
      "1 Failed download:\n",
      "- HCN: No data found for this date range, symbol may be delisted\n",
      "No data for HCN\n",
      "[*********************100%***********************]  1 of 1 completed\n",
      "\n",
      "1 Failed download:\n",
      "- HCP: Data doesn't exist for startDate = 1059714000, endDate = 1420092000\n",
      "No data for HCP\n",
      "[*********************100%***********************]  1 of 1 completed\n",
      "[*********************100%***********************]  1 of 1 completed\n",
      "[*********************100%***********************]  1 of 1 completed\n",
      "[*********************100%***********************]  1 of 1 completed\n",
      "[*********************100%***********************]  1 of 1 completed\n",
      "[*********************100%***********************]  1 of 1 completed\n",
      "\n",
      "1 Failed download:\n",
      "- HOT: No data found for this date range, symbol may be delisted\n",
      "No data for HOT\n",
      "[*********************100%***********************]  1 of 1 completed\n",
      "[*********************100%***********************]  1 of 1 completed\n",
      "[*********************100%***********************]  1 of 1 completed\n",
      "[*********************100%***********************]  1 of 1 completed\n",
      "[*********************100%***********************]  1 of 1 completed\n",
      "[*********************100%***********************]  1 of 1 completed\n",
      "\n",
      "1 Failed download:\n",
      "- HRS: No data found, symbol may be delisted\n",
      "No data for HRS\n",
      "[*********************100%***********************]  1 of 1 completed\n",
      "\n",
      "1 Failed download:\n",
      "- HSP: No data found for this date range, symbol may be delisted\n",
      "No data for HSP\n",
      "[*********************100%***********************]  1 of 1 completed\n",
      "[*********************100%***********************]  1 of 1 completed\n",
      "[*********************100%***********************]  1 of 1 completed\n",
      "\n",
      "1 Failed download:\n",
      "- HTZ: Data doesn't exist for startDate = 1059714000, endDate = 1420092000\n",
      "No data for HTZ\n",
      "[*********************100%***********************]  1 of 1 completed\n",
      "[*********************100%***********************]  1 of 1 completed\n",
      "[*********************100%***********************]  1 of 1 completed\n",
      "[*********************100%***********************]  1 of 1 completed\n",
      "[*********************100%***********************]  1 of 1 completed\n",
      "[*********************100%***********************]  1 of 1 completed\n",
      "[*********************100%***********************]  1 of 1 completed\n",
      "[*********************100%***********************]  1 of 1 completed\n",
      "[*********************100%***********************]  1 of 1 completed\n"
     ]
    },
    {
     "name": "stdout",
     "output_type": "stream",
     "text": [
      "[*********************100%***********************]  1 of 1 completed\n",
      "\n",
      "1 Failed download:\n",
      "- IR: Data doesn't exist for startDate = 1059714000, endDate = 1420092000\n",
      "No data for IR\n",
      "[*********************100%***********************]  1 of 1 completed\n",
      "[*********************100%***********************]  1 of 1 completed\n",
      "[*********************100%***********************]  1 of 1 completed\n",
      "[*********************100%***********************]  1 of 1 completed\n",
      "[*********************100%***********************]  1 of 1 completed\n",
      "[*********************100%***********************]  1 of 1 completed\n",
      "[*********************100%***********************]  1 of 1 completed\n",
      "\n",
      "1 Failed download:\n",
      "- JCP: No data found, symbol may be delisted\n",
      "No data for JCP\n",
      "[*********************100%***********************]  1 of 1 completed\n",
      "\n",
      "1 Failed download:\n",
      "- JDSU: No data found for this date range, symbol may be delisted\n",
      "No data for JDSU\n",
      "[*********************100%***********************]  1 of 1 completed\n",
      "\n",
      "1 Failed download:\n",
      "- JEC: No data found, symbol may be delisted\n",
      "No data for JEC\n",
      "[*********************100%***********************]  1 of 1 completed\n",
      "[*********************100%***********************]  1 of 1 completed\n",
      "[*********************100%***********************]  1 of 1 completed\n",
      "\n",
      "1 Failed download:\n",
      "- JOSB: No data found for this date range, symbol may be delisted\n",
      "No data for JOSB\n",
      "[*********************100%***********************]  1 of 1 completed\n",
      "\n",
      "1 Failed download:\n",
      "- JOY: No data found for this date range, symbol may be delisted\n",
      "No data for JOY\n",
      "[*********************100%***********************]  1 of 1 completed\n",
      "[*********************100%***********************]  1 of 1 completed\n",
      "[*********************100%***********************]  1 of 1 completed\n",
      "[*********************100%***********************]  1 of 1 completed\n",
      "[*********************100%***********************]  1 of 1 completed\n",
      "[*********************100%***********************]  1 of 1 completed\n",
      "[*********************100%***********************]  1 of 1 completed\n",
      "[*********************100%***********************]  1 of 1 completed\n",
      "[*********************100%***********************]  1 of 1 completed\n",
      "[*********************100%***********************]  1 of 1 completed\n",
      "[*********************100%***********************]  1 of 1 completed\n",
      "[*********************100%***********************]  1 of 1 completed\n",
      "\n",
      "1 Failed download:\n",
      "- KRFT: No data found for this date range, symbol may be delisted\n",
      "No data for KRFT\n",
      "[*********************100%***********************]  1 of 1 completed\n",
      "[*********************100%***********************]  1 of 1 completed\n",
      "\n",
      "1 Failed download:\n",
      "- KSU: No data found, symbol may be delisted\n",
      "No data for KSU\n",
      "[*********************100%***********************]  1 of 1 completed\n",
      "[*********************100%***********************]  1 of 1 completed\n",
      "[*********************100%***********************]  1 of 1 completed\n",
      "[*********************100%***********************]  1 of 1 completed\n",
      "[*********************100%***********************]  1 of 1 completed\n",
      "\n",
      "1 Failed download:\n",
      "- LIFE: Data doesn't exist for startDate = 1059714000, endDate = 1420092000\n",
      "No data for LIFE\n",
      "[*********************100%***********************]  1 of 1 completed\n",
      "[*********************100%***********************]  1 of 1 completed\n",
      "\n",
      "1 Failed download:\n",
      "- LLTC: No data found for this date range, symbol may be delisted\n",
      "No data for LLTC\n",
      "[*********************100%***********************]  1 of 1 completed\n",
      "[*********************100%***********************]  1 of 1 completed\n",
      "\n",
      "1 Failed download:\n",
      "- LM: No data found, symbol may be delisted\n",
      "No data for LM\n",
      "[*********************100%***********************]  1 of 1 completed\n",
      "[*********************100%***********************]  1 of 1 completed\n",
      "[*********************100%***********************]  1 of 1 completed\n",
      "\n",
      "1 Failed download:\n",
      "- LO: No data found for this date range, symbol may be delisted\n",
      "No data for LO\n",
      "[*********************100%***********************]  1 of 1 completed\n",
      "[*********************100%***********************]  1 of 1 completed\n",
      "[*********************100%***********************]  1 of 1 completed\n",
      "[*********************100%***********************]  1 of 1 completed\n",
      "\n",
      "1 Failed download:\n",
      "- LTD: No data found for this date range, symbol may be delisted\n",
      "No data for LTD\n",
      "[*********************100%***********************]  1 of 1 completed\n",
      "\n",
      "1 Failed download:\n",
      "- LUK: No data found for this date range, symbol may be delisted\n",
      "No data for LUK\n",
      "[*********************100%***********************]  1 of 1 completed\n",
      "[*********************100%***********************]  1 of 1 completed\n",
      "[*********************100%***********************]  1 of 1 completed\n",
      "[*********************100%***********************]  1 of 1 completed\n",
      "[*********************100%***********************]  1 of 1 completed\n",
      "[*********************100%***********************]  1 of 1 completed\n",
      "[*********************100%***********************]  1 of 1 completed\n",
      "[*********************100%***********************]  1 of 1 completed\n",
      "[*********************100%***********************]  1 of 1 completed\n",
      "[*********************100%***********************]  1 of 1 completed\n",
      "[*********************100%***********************]  1 of 1 completed\n",
      "[*********************100%***********************]  1 of 1 completed\n",
      "[*********************100%***********************]  1 of 1 completed\n",
      "[*********************100%***********************]  1 of 1 completed\n",
      "[*********************100%***********************]  1 of 1 completed\n",
      "[*********************100%***********************]  1 of 1 completed\n",
      "[*********************100%***********************]  1 of 1 completed\n",
      "[*********************100%***********************]  1 of 1 completed\n",
      "\n",
      "1 Failed download:\n",
      "- MHFI: No data found for this date range, symbol may be delisted\n",
      "No data for MHFI\n",
      "[*********************100%***********************]  1 of 1 completed\n",
      "\n",
      "1 Failed download:\n",
      "- MJN: No data found for this date range, symbol may be delisted\n",
      "No data for MJN\n",
      "[*********************100%***********************]  1 of 1 completed\n",
      "[*********************100%***********************]  1 of 1 completed\n",
      "[*********************100%***********************]  1 of 1 completed\n",
      "[*********************100%***********************]  1 of 1 completed\n",
      "[*********************100%***********************]  1 of 1 completed\n",
      "[*********************100%***********************]  1 of 1 completed\n",
      "[*********************100%***********************]  1 of 1 completed\n",
      "\n",
      "1 Failed download:\n",
      "- MON: Data doesn't exist for startDate = 1059714000, endDate = 1420092000\n",
      "No data for MON\n",
      "[*********************100%***********************]  1 of 1 completed\n",
      "[*********************100%***********************]  1 of 1 completed\n",
      "[*********************100%***********************]  1 of 1 completed\n",
      "[*********************100%***********************]  1 of 1 completed\n",
      "[*********************100%***********************]  1 of 1 completed\n",
      "[*********************100%***********************]  1 of 1 completed\n",
      "[*********************100%***********************]  1 of 1 completed\n",
      "[*********************100%***********************]  1 of 1 completed\n",
      "[*********************100%***********************]  1 of 1 completed\n",
      "[*********************100%***********************]  1 of 1 completed\n",
      "[*********************100%***********************]  1 of 1 completed\n",
      "\n",
      "1 Failed download:\n",
      "- MWV: No data found for this date range, symbol may be delisted\n",
      "No data for MWV\n",
      "[*********************100%***********************]  1 of 1 completed\n",
      "\n",
      "1 Failed download:\n",
      "- MYL: No data found, symbol may be delisted\n",
      "No data for MYL\n",
      "[*********************100%***********************]  1 of 1 completed\n",
      "\n",
      "1 Failed download:\n",
      "- NBL: No data found, symbol may be delisted\n",
      "No data for NBL\n",
      "[*********************100%***********************]  1 of 1 completed\n",
      "[*********************100%***********************]  1 of 1 completed\n",
      "[*********************100%***********************]  1 of 1 completed\n",
      "\n",
      "1 Failed download:\n",
      "- NE: Data doesn't exist for startDate = 1059714000, endDate = 1420092000\n",
      "No data for NE\n",
      "[*********************100%***********************]  1 of 1 completed\n",
      "[*********************100%***********************]  1 of 1 completed\n"
     ]
    },
    {
     "name": "stdout",
     "output_type": "stream",
     "text": [
      "[*********************100%***********************]  1 of 1 completed\n",
      "[*********************100%***********************]  1 of 1 completed\n",
      "[*********************100%***********************]  1 of 1 completed\n",
      "[*********************100%***********************]  1 of 1 completed\n",
      "[*********************100%***********************]  1 of 1 completed\n",
      "[*********************100%***********************]  1 of 1 completed\n",
      "[*********************100%***********************]  1 of 1 completed\n",
      "[*********************100%***********************]  1 of 1 completed\n",
      "[*********************100%***********************]  1 of 1 completed\n",
      "[*********************100%***********************]  1 of 1 completed\n",
      "[*********************100%***********************]  1 of 1 completed\n",
      "[*********************100%***********************]  1 of 1 completed\n",
      "[*********************100%***********************]  1 of 1 completed\n",
      "\n",
      "1 Failed download:\n",
      "- NTRI: No data found, symbol may be delisted\n",
      "No data for NTRI\n",
      "[*********************100%***********************]  1 of 1 completed\n",
      "[*********************100%***********************]  1 of 1 completed\n",
      "\n",
      "1 Failed download:\n",
      "- NU: Data doesn't exist for startDate = 1059714000, endDate = 1420092000\n",
      "No data for NU\n",
      "[*********************100%***********************]  1 of 1 completed\n",
      "[*********************100%***********************]  1 of 1 completed\n",
      "[*********************100%***********************]  1 of 1 completed\n",
      "[*********************100%***********************]  1 of 1 completed\n",
      "[*********************100%***********************]  1 of 1 completed\n",
      "[*********************100%***********************]  1 of 1 completed\n",
      "[*********************100%***********************]  1 of 1 completed\n",
      "[*********************100%***********************]  1 of 1 completed\n",
      "[*********************100%***********************]  1 of 1 completed\n",
      "[*********************100%***********************]  1 of 1 completed\n",
      "[*********************100%***********************]  1 of 1 completed\n",
      "[*********************100%***********************]  1 of 1 completed\n",
      "[*********************100%***********************]  1 of 1 completed\n",
      "[*********************100%***********************]  1 of 1 completed\n",
      "[*********************100%***********************]  1 of 1 completed\n",
      "\n",
      "1 Failed download:\n",
      "- PBCT: No data found, symbol may be delisted\n",
      "No data for PBCT\n",
      "[*********************100%***********************]  1 of 1 completed\n",
      "[*********************100%***********************]  1 of 1 completed\n",
      "[*********************100%***********************]  1 of 1 completed\n",
      "[*********************100%***********************]  1 of 1 completed\n",
      "\n",
      "1 Failed download:\n",
      "- PCL: No data found for this date range, symbol may be delisted\n",
      "No data for PCL\n",
      "[*********************100%***********************]  1 of 1 completed\n",
      "\n",
      "1 Failed download:\n",
      "- PCLN: No data found for this date range, symbol may be delisted\n",
      "No data for PCLN\n",
      "[*********************100%***********************]  1 of 1 completed\n",
      "\n",
      "1 Failed download:\n",
      "- PCP: Data doesn't exist for startDate = 1059714000, endDate = 1420092000\n",
      "No data for PCP\n",
      "[*********************100%***********************]  1 of 1 completed\n",
      "[*********************100%***********************]  1 of 1 completed\n",
      "[*********************100%***********************]  1 of 1 completed\n",
      "[*********************100%***********************]  1 of 1 completed\n",
      "\n",
      "1 Failed download:\n",
      "- PETM: Data doesn't exist for startDate = 1059714000, endDate = 1420092000\n",
      "No data for PETM\n",
      "[*********************100%***********************]  1 of 1 completed\n",
      "[*********************100%***********************]  1 of 1 completed\n",
      "[*********************100%***********************]  1 of 1 completed\n",
      "[*********************100%***********************]  1 of 1 completed\n",
      "[*********************100%***********************]  1 of 1 completed\n",
      "[*********************100%***********************]  1 of 1 completed\n",
      "[*********************100%***********************]  1 of 1 completed\n",
      "[*********************100%***********************]  1 of 1 completed\n",
      "[*********************100%***********************]  1 of 1 completed\n",
      "[*********************100%***********************]  1 of 1 completed\n",
      "\n",
      "1 Failed download:\n",
      "- PLL: Data doesn't exist for startDate = 1059714000, endDate = 1420092000\n",
      "No data for PLL\n",
      "[*********************100%***********************]  1 of 1 completed\n",
      "[*********************100%***********************]  1 of 1 completed\n",
      "[*********************100%***********************]  1 of 1 completed\n",
      "[*********************100%***********************]  1 of 1 completed\n",
      "[*********************100%***********************]  1 of 1 completed\n",
      "[*********************100%***********************]  1 of 1 completed\n",
      "[*********************100%***********************]  1 of 1 completed\n",
      "[*********************100%***********************]  1 of 1 completed\n",
      "[*********************100%***********************]  1 of 1 completed\n",
      "[*********************100%***********************]  1 of 1 completed\n",
      "[*********************100%***********************]  1 of 1 completed\n",
      "[*********************100%***********************]  1 of 1 completed\n",
      "\n",
      "1 Failed download:\n",
      "- PVTB: No data found for this date range, symbol may be delisted\n",
      "No data for PVTB\n",
      "[*********************100%***********************]  1 of 1 completed\n",
      "[*********************100%***********************]  1 of 1 completed\n",
      "\n",
      "1 Failed download:\n",
      "- PX: Data doesn't exist for startDate = 1059714000, endDate = 1420092000\n",
      "No data for PX\n",
      "[*********************100%***********************]  1 of 1 completed\n",
      "[*********************100%***********************]  1 of 1 completed\n",
      "[*********************100%***********************]  1 of 1 completed\n",
      "[*********************100%***********************]  1 of 1 completed\n",
      "\n",
      "1 Failed download:\n",
      "- QEP: No data found, symbol may be delisted\n",
      "No data for QEP\n",
      "[*********************100%***********************]  1 of 1 completed\n",
      "[*********************100%***********************]  1 of 1 completed\n",
      "\n",
      "1 Failed download:\n",
      "- RAI: No data found for this date range, symbol may be delisted\n",
      "No data for RAI\n",
      "[*********************100%***********************]  1 of 1 completed\n",
      "\n",
      "1 Failed download:\n",
      "- RDC: No data found, symbol may be delisted\n",
      "No data for RDC\n",
      "[*********************100%***********************]  1 of 1 completed\n",
      "[*********************100%***********************]  1 of 1 completed\n",
      "[*********************100%***********************]  1 of 1 completed\n",
      "\n",
      "1 Failed download:\n",
      "- RHT: No data found, symbol may be delisted\n",
      "No data for RHT\n",
      "[*********************100%***********************]  1 of 1 completed\n",
      "[*********************100%***********************]  1 of 1 completed\n",
      "[*********************100%***********************]  1 of 1 completed\n",
      "[*********************100%***********************]  1 of 1 completed\n",
      "[*********************100%***********************]  1 of 1 completed\n",
      "[*********************100%***********************]  1 of 1 completed\n",
      "[*********************100%***********************]  1 of 1 completed\n",
      "[*********************100%***********************]  1 of 1 completed\n",
      "\n",
      "1 Failed download:\n",
      "- RTN: No data found, symbol may be delisted\n",
      "No data for RTN\n",
      "[*********************100%***********************]  1 of 1 completed\n",
      "\n",
      "1 Failed download:\n",
      "- S: Data doesn't exist for startDate = 1059714000, endDate = 1420092000\n",
      "No data for S\n",
      "[*********************100%***********************]  1 of 1 completed\n",
      "\n",
      "1 Failed download:\n",
      "- SAI: Data doesn't exist for startDate = 1059714000, endDate = 1420092000\n",
      "No data for SAI\n",
      "[*********************100%***********************]  1 of 1 completed\n",
      "[*********************100%***********************]  1 of 1 completed\n",
      "\n",
      "1 Failed download:\n",
      "- SCG: Data doesn't exist for startDate = 1059714000, endDate = 1420092000\n",
      "No data for SCG\n",
      "[*********************100%***********************]  1 of 1 completed\n",
      "[*********************100%***********************]  1 of 1 completed\n",
      "[*********************100%***********************]  1 of 1 completed\n",
      "\n",
      "1 Failed download:\n",
      "- SD: Data doesn't exist for startDate = 1059714000, endDate = 1420092000\n",
      "No data for SD\n",
      "[*********************100%***********************]  1 of 1 completed\n",
      "\n",
      "1 Failed download:\n",
      "- SE: Data doesn't exist for startDate = 1059714000, endDate = 1420092000\n",
      "No data for SE\n"
     ]
    },
    {
     "name": "stdout",
     "output_type": "stream",
     "text": [
      "[*********************100%***********************]  1 of 1 completed\n",
      "[*********************100%***********************]  1 of 1 completed\n",
      "\n",
      "1 Failed download:\n",
      "- SFLY: No data found, symbol may be delisted\n",
      "No data for SFLY\n",
      "[*********************100%***********************]  1 of 1 completed\n",
      "\n",
      "1 Failed download:\n",
      "- SHLD: Data doesn't exist for startDate = 1059714000, endDate = 1420092000\n",
      "No data for SHLD\n",
      "[*********************100%***********************]  1 of 1 completed\n",
      "[*********************100%***********************]  1 of 1 completed\n",
      "\n",
      "1 Failed download:\n",
      "- SIAL: No data found for this date range, symbol may be delisted\n",
      "No data for SIAL\n",
      "[*********************100%***********************]  1 of 1 completed\n",
      "[*********************100%***********************]  1 of 1 completed\n",
      "[*********************100%***********************]  1 of 1 completed\n",
      "[*********************100%***********************]  1 of 1 completed\n",
      "[*********************100%***********************]  1 of 1 completed\n",
      "[*********************100%***********************]  1 of 1 completed\n",
      "[*********************100%***********************]  1 of 1 completed\n",
      "\n",
      "1 Failed download:\n",
      "- SNDK: No data found for this date range, symbol may be delisted\n",
      "No data for SNDK\n",
      "[*********************100%***********************]  1 of 1 completed\n",
      "\n",
      "1 Failed download:\n",
      "- SNE: No data found, symbol may be delisted\n",
      "No data for SNE\n",
      "[*********************100%***********************]  1 of 1 completed\n",
      "[*********************100%***********************]  1 of 1 completed\n",
      "[*********************100%***********************]  1 of 1 completed\n",
      "[*********************100%***********************]  1 of 1 completed\n",
      "[*********************100%***********************]  1 of 1 completed\n",
      "\n",
      "1 Failed download:\n",
      "- SPLS: No data found for this date range, symbol may be delisted\n",
      "No data for SPLS\n",
      "[*********************100%***********************]  1 of 1 completed\n",
      "[*********************100%***********************]  1 of 1 completed\n",
      "[*********************100%***********************]  1 of 1 completed\n",
      "\n",
      "1 Failed download:\n",
      "- STI: No data found, symbol may be delisted\n",
      "No data for STI\n",
      "[*********************100%***********************]  1 of 1 completed\n",
      "\n",
      "1 Failed download:\n",
      "- STJ: No data found for this date range, symbol may be delisted\n",
      "No data for STJ\n",
      "[*********************100%***********************]  1 of 1 completed\n",
      "[*********************100%***********************]  1 of 1 completed\n",
      "[*********************100%***********************]  1 of 1 completed\n",
      "[*********************100%***********************]  1 of 1 completed\n",
      "[*********************100%***********************]  1 of 1 completed\n",
      "[*********************100%***********************]  1 of 1 completed\n",
      "\n",
      "1 Failed download:\n",
      "- SWY: No data found for this date range, symbol may be delisted\n",
      "No data for SWY\n",
      "[*********************100%***********************]  1 of 1 completed\n",
      "[*********************100%***********************]  1 of 1 completed\n",
      "\n",
      "1 Failed download:\n",
      "- SYMC: No data found, symbol may be delisted\n",
      "No data for SYMC\n",
      "[*********************100%***********************]  1 of 1 completed\n",
      "[*********************100%***********************]  1 of 1 completed\n",
      "[*********************100%***********************]  1 of 1 completed\n",
      "[*********************100%***********************]  1 of 1 completed\n",
      "[*********************100%***********************]  1 of 1 completed\n",
      "\n",
      "1 Failed download:\n",
      "- TE: No data found for this date range, symbol may be delisted\n",
      "No data for TE\n",
      "[*********************100%***********************]  1 of 1 completed\n",
      "\n",
      "1 Failed download:\n",
      "- TEG: Data doesn't exist for startDate = 1059714000, endDate = 1420092000\n",
      "No data for TEG\n",
      "[*********************100%***********************]  1 of 1 completed\n",
      "[*********************100%***********************]  1 of 1 completed\n",
      "[*********************100%***********************]  1 of 1 completed\n",
      "[*********************100%***********************]  1 of 1 completed\n",
      "[*********************100%***********************]  1 of 1 completed\n",
      "\n",
      "1 Failed download:\n",
      "- TIBX: No data found for this date range, symbol may be delisted\n",
      "No data for TIBX\n",
      "[*********************100%***********************]  1 of 1 completed\n",
      "\n",
      "1 Failed download:\n",
      "- TIF: No data found, symbol may be delisted\n",
      "No data for TIF\n",
      "[*********************100%***********************]  1 of 1 completed\n",
      "[*********************100%***********************]  1 of 1 completed\n",
      "[*********************100%***********************]  1 of 1 completed\n",
      "\n",
      "1 Failed download:\n",
      "- TMK: No data found, symbol may be delisted\n",
      "No data for TMK\n",
      "[*********************100%***********************]  1 of 1 completed\n",
      "[*********************100%***********************]  1 of 1 completed\n",
      "[*********************100%***********************]  1 of 1 completed\n",
      "[*********************100%***********************]  1 of 1 completed\n",
      "[*********************100%***********************]  1 of 1 completed\n",
      "[*********************100%***********************]  1 of 1 completed\n",
      "[*********************100%***********************]  1 of 1 completed\n",
      "\n",
      "1 Failed download:\n",
      "- TSO: No data found for this date range, symbol may be delisted\n",
      "No data for TSO\n",
      "[*********************100%***********************]  1 of 1 completed\n",
      "\n",
      "1 Failed download:\n",
      "- TSS: No data found, symbol may be delisted\n",
      "No data for TSS\n",
      "[*********************100%***********************]  1 of 1 completed\n",
      "\n",
      "1 Failed download:\n",
      "- TWC: No data found for this date range, symbol may be delisted\n",
      "No data for TWC\n",
      "[*********************100%***********************]  1 of 1 completed\n",
      "[*********************100%***********************]  1 of 1 completed\n",
      "[*********************100%***********************]  1 of 1 completed\n",
      "[*********************100%***********************]  1 of 1 completed\n",
      "\n",
      "1 Failed download:\n",
      "- TYC: No data found for this date range, symbol may be delisted\n",
      "No data for TYC\n",
      "[*********************100%***********************]  1 of 1 completed\n",
      "\n",
      "1 Failed download:\n",
      "- UA: Data doesn't exist for startDate = 1059714000, endDate = 1420092000\n",
      "No data for UA\n",
      "[*********************100%***********************]  1 of 1 completed\n",
      "[*********************100%***********************]  1 of 1 completed\n",
      "[*********************100%***********************]  1 of 1 completed\n",
      "[*********************100%***********************]  1 of 1 completed\n",
      "[*********************100%***********************]  1 of 1 completed\n",
      "[*********************100%***********************]  1 of 1 completed\n",
      "[*********************100%***********************]  1 of 1 completed\n",
      "\n",
      "1 Failed download:\n",
      "- UTX: No data found, symbol may be delisted\n",
      "No data for UTX\n",
      "[*********************100%***********************]  1 of 1 completed\n",
      "[*********************100%***********************]  1 of 1 completed\n",
      "[*********************100%***********************]  1 of 1 completed\n",
      "\n",
      "1 Failed download:\n",
      "- VAR: No data found, symbol may be delisted\n",
      "No data for VAR\n",
      "[*********************100%***********************]  1 of 1 completed\n",
      "[*********************100%***********************]  1 of 1 completed\n",
      "\n",
      "1 Failed download:\n",
      "- VIAB: No data found, symbol may be delisted\n",
      "No data for VIAB\n",
      "[*********************100%***********************]  1 of 1 completed\n",
      "\n",
      "1 Failed download:\n",
      "- VITC: No data found for this date range, symbol may be delisted\n",
      "No data for VITC\n",
      "[*********************100%***********************]  1 of 1 completed\n",
      "[*********************100%***********************]  1 of 1 completed\n",
      "[*********************100%***********************]  1 of 1 completed\n",
      "[*********************100%***********************]  1 of 1 completed\n",
      "\n",
      "1 Failed download:\n",
      "- VPRT: No data found for this date range, symbol may be delisted\n",
      "No data for VPRT\n",
      "[*********************100%***********************]  1 of 1 completed\n",
      "[*********************100%***********************]  1 of 1 completed\n",
      "[*********************100%***********************]  1 of 1 completed\n",
      "[*********************100%***********************]  1 of 1 completed\n",
      "\n",
      "1 Failed download:\n",
      "- WAG: No data found for this date range, symbol may be delisted\n",
      "No data for WAG\n",
      "[*********************100%***********************]  1 of 1 completed\n",
      "[*********************100%***********************]  1 of 1 completed\n"
     ]
    },
    {
     "name": "stdout",
     "output_type": "stream",
     "text": [
      "[*********************100%***********************]  1 of 1 completed\n",
      "[*********************100%***********************]  1 of 1 completed\n",
      "[*********************100%***********************]  1 of 1 completed\n",
      "\n",
      "1 Failed download:\n",
      "- WFM: No data found for this date range, symbol may be delisted\n",
      "No data for WFM\n",
      "[*********************100%***********************]  1 of 1 completed\n",
      "[*********************100%***********************]  1 of 1 completed\n",
      "[*********************100%***********************]  1 of 1 completed\n",
      "\n",
      "1 Failed download:\n",
      "- WIN: No data found, symbol may be delisted\n",
      "No data for WIN\n",
      "[*********************100%***********************]  1 of 1 completed\n",
      "\n",
      "1 Failed download:\n",
      "- WLP: No data found for this date range, symbol may be delisted\n",
      "No data for WLP\n",
      "[*********************100%***********************]  1 of 1 completed\n",
      "[*********************100%***********************]  1 of 1 completed\n",
      "[*********************100%***********************]  1 of 1 completed\n",
      "[*********************100%***********************]  1 of 1 completed\n",
      "\n",
      "1 Failed download:\n",
      "- WPO: No data found for this date range, symbol may be delisted\n",
      "No data for WPO\n",
      "[*********************100%***********************]  1 of 1 completed\n",
      "\n",
      "1 Failed download:\n",
      "- WPX: No data found, symbol may be delisted\n",
      "No data for WPX\n",
      "[*********************100%***********************]  1 of 1 completed\n",
      "[*********************100%***********************]  1 of 1 completed\n",
      "[*********************100%***********************]  1 of 1 completed\n",
      "[*********************100%***********************]  1 of 1 completed\n",
      "\n",
      "1 Failed download:\n",
      "- WYN: No data found for this date range, symbol may be delisted\n",
      "No data for WYN\n",
      "[*********************100%***********************]  1 of 1 completed\n",
      "[*********************100%***********************]  1 of 1 completed\n",
      "[*********************100%***********************]  1 of 1 completed\n",
      "[*********************100%***********************]  1 of 1 completed\n",
      "\n",
      "1 Failed download:\n",
      "- XL: Data doesn't exist for startDate = 1059714000, endDate = 1420092000\n",
      "No data for XL\n",
      "[*********************100%***********************]  1 of 1 completed\n",
      "\n",
      "1 Failed download:\n",
      "- XLNX: No data found, symbol may be delisted\n",
      "No data for XLNX\n",
      "[*********************100%***********************]  1 of 1 completed\n",
      "[*********************100%***********************]  1 of 1 completed\n",
      "[*********************100%***********************]  1 of 1 completed\n",
      "[*********************100%***********************]  1 of 1 completed\n",
      "[*********************100%***********************]  1 of 1 completed\n",
      "\n",
      "1 Failed download:\n",
      "- YHOO: No data found for this date range, symbol may be delisted\n",
      "No data for YHOO\n",
      "[*********************100%***********************]  1 of 1 completed\n",
      "[*********************100%***********************]  1 of 1 completed\n",
      "[*********************100%***********************]  1 of 1 completed\n",
      "\n",
      "1 Failed download:\n",
      "- ZLC: No data found for this date range, symbol may be delisted\n",
      "No data for ZLC\n",
      "[*********************100%***********************]  1 of 1 completed\n",
      "\n",
      "1 Failed download:\n",
      "- ZMH: No data found for this date range, symbol may be delisted\n",
      "No data for ZMH\n",
      "[*********************100%***********************]  1 of 1 completed\n",
      "\n",
      "1 Failed download:\n",
      "- ZNGA: No data found, symbol may be delisted\n",
      "No data for ZNGA\n"
     ]
    }
   ],
   "source": [
    "df = pd.DataFrame()\n",
    "\n",
    "for ticker in ticker_list:\n",
    "    ticker = ticker.upper()\n",
    "\n",
    "    stock_ohlc = pdr.get_data_yahoo(ticker, START_DATE, END_DATE)\n",
    "    if stock_ohlc.empty:\n",
    "        print(f\"No data for {ticker}\")\n",
    "        continue\n",
    "    adj_close = stock_ohlc[\"Adj Close\"].rename(ticker)\n",
    "    df = pd.concat([df, adj_close], axis=1)\n",
    "df.to_csv(\"stock_prices.csv\")"
   ]
  },
  {
   "cell_type": "code",
   "execution_count": 8,
   "id": "ca95aaa3",
   "metadata": {},
   "outputs": [],
   "source": [
    "features = [\"Total Debt/Equity\",\n",
    "                      'Trailing P/E',\n",
    "                      'Price/Book',\n",
    "                      'Profit Margin',\n",
    "                      'Operating Margin',\n",
    "                      'Return on Assets',\n",
    "                      'Return on Equity',\n",
    "                      'Revenue Per Share',\n",
    "                      'Market Cap',\n",
    "                        'Enterprise Value',\n",
    "                        'Forward P/E',\n",
    "                        'PEG Ratio',\n",
    "                        'Enterprise Value/Revenue',\n",
    "                        'Enterprise Value/EBITDA',\n",
    "                        'Revenue',\n",
    "                        'Gross Profit',\n",
    "                        'EBITDA',\n",
    "                        'Net Income Avl to Common ',\n",
    "                        'Diluted EPS',\n",
    "                        'Qtrly Earnings Growth',\n",
    "                        'Qtrly Revenue Growth',\n",
    "                        'Total Cash',\n",
    "                        'Total Cash Per Share',\n",
    "                        'Total Debt',\n",
    "                        'Current Ratio',\n",
    "                        'Book Value Per Share',\n",
    "                        'Cash Flow',\n",
    "                        'Beta',\n",
    "                        '% Held by Insiders',\n",
    "                        '% Held by Institutions',\n",
    "                        'Shares Short (as of',\n",
    "                        'Short Ratio',\n",
    "                        'Short % of Float',\n",
    "                        'Shares Short (prior ',\n",
    "                        'Current Price',\n",
    "                        'Shares Outstanding' ]\n"
   ]
  },
  {
   "cell_type": "code",
   "execution_count": 11,
   "id": "fb4401c4",
   "metadata": {},
   "outputs": [],
   "source": [
    "# Read in SP500 data and stock data, parsing the dates.\n",
    "sp500_raw_data = pd.read_csv(\"sp500_index.csv\", index_col=\"Date\", parse_dates=True)\n",
    "stock_raw_data = pd.read_csv(\"stock_prices.csv\", index_col=\"Date\", parse_dates=True)"
   ]
  },
  {
   "cell_type": "code",
   "execution_count": 12,
   "id": "d3e79617",
   "metadata": {},
   "outputs": [],
   "source": [
    "# We will reindex to include the weekends.\n",
    "start_date = str(stock_raw_data.index[0])\n",
    "end_date = str(stock_raw_data.index[-1])\n",
    "idx = pd.date_range(start_date, end_date)\n",
    "sp500_raw_data = sp500_raw_data.reindex(idx)\n",
    "stock_raw_data = stock_raw_data.reindex(idx)"
   ]
  },
  {
   "cell_type": "code",
   "execution_count": 13,
   "id": "2e0d2e4c",
   "metadata": {},
   "outputs": [],
   "source": [
    "# Now the weekends are NaN, so we fill forward these NaNs\n",
    "# (i.e weekends take the value of Friday's adjusted close).\n",
    "sp500_raw_data.ffill(inplace=True)\n",
    "stock_raw_data.ffill(inplace=True)\n",
    "# The tickers whose data is to be parsed.\n",
    "stock_list = [x[0] for x in os.walk(statspath)]\n",
    "stock_list = stock_list[1:]"
   ]
  },
  {
   "cell_type": "code",
   "execution_count": 14,
   "id": "2427070e",
   "metadata": {},
   "outputs": [],
   "source": [
    " # Creating a new dataframe which we will later fill.\n",
    "df_columns = [\n",
    "    \"Date\",\n",
    "    \"Unix\",\n",
    "    \"Ticker\",\n",
    "    \"Price\",\n",
    "    \"stock_p_change\",\n",
    "    \"SP500\",\n",
    "    \"SP500_p_change\",\n",
    "] + features\n",
    "\n",
    "df = pd.DataFrame(columns=df_columns)"
   ]
  },
  {
   "cell_type": "code",
   "execution_count": 18,
   "id": "7329c1ef",
   "metadata": {},
   "outputs": [
    {
     "name": "stderr",
     "output_type": "stream",
     "text": [
      "Parsing progress:: 100%|████████████████████████████████████████████████████████| 560/560 [07:18<00:00,  1.28tickers/s]\n"
     ]
    }
   ],
   "source": [
    "# tqdm is a simple progress bar\n",
    "for stock_directory in tqdm(stock_list, desc=\"Parsing progress:\", unit=\"tickers\"):\n",
    "    keystats_html_files = os.listdir(stock_directory)\n",
    "\n",
    "    ticker = stock_directory.split(statspath)[1]\n",
    "\n",
    "    for file in keystats_html_files:\n",
    "            # Convert the datetime format of our file to unix time\n",
    "        date_stamp = datetime.strptime(file, \"%Y%m%d%H%M%S.html\")\n",
    "        unix_time = time.mktime(date_stamp.timetuple())\n",
    "\n",
    "            # Read in the html file as a string.\n",
    "        full_file_path = stock_directory + \"/\" + file\n",
    "\n",
    "            # This will store the parsed values\n",
    "        value_list = []\n",
    "\n",
    "        with open(full_file_path, \"r\") as source:\n",
    "            source = source.read()\n",
    "                # Remove commas from the html to make parsing easier.\n",
    "            source = source.replace(\",\", \"\")\n",
    "\n",
    "                # Regex search for the different variables in the html file, then append to value_list\n",
    "            for variable in features:\n",
    "                if variable == 'Current Price':\n",
    "                    try:\n",
    "                        value_list.append(0)\n",
    "                    except KeyError:\n",
    "                        continue\n",
    "                else:\n",
    "                \n",
    "                    \n",
    "                    # Search for the table entry adjacent to the variable name.\n",
    "                    try:\n",
    "                        regex = (\n",
    "                            r\">\"\n",
    "                            + re.escape(variable)\n",
    "                             + r\".*?(\\-?\\d+\\.*\\d*K?M?B?|N/A[\\\\n|\\s]*|>0|NaN)%?\"\n",
    "                             r\"(</td>|</span>)\"\n",
    "                        )\n",
    "                        value = re.search(regex, source, flags=re.DOTALL).group(1)\n",
    "\n",
    "                        # Dealing with number formatting\n",
    "                        value_list.append(data_string_to_float(value))\n",
    "\n",
    "                    # The data may not be present. Process accordingly\n",
    "                    except AttributeError:\n",
    "                        # In the past, 'Avg Vol' was instead named 'Average Volume'\n",
    "                        # If 'Avg Vol' fails, search for 'Average Volume'.\n",
    "                        if variable == \"Avg Vol (3 month)\":\n",
    "                            try:\n",
    "                                new_variable = \">Average Volume (3 month)\"\n",
    "                                regex = (\n",
    "                                    re.escape(new_variable)\n",
    "                                    + r\".*?(\\-?\\d+\\.*\\d*K?M?B?|N/A[\\\\n|\\s]*|>0)%?\"\n",
    "                                    r\"(</td>|</span>)\"\n",
    "                                )\n",
    "                                value = re.search(regex, source, flags=re.DOTALL).group(\n",
    "                                       1\n",
    "                                )\n",
    "                                value_list.append(data_string_to_float(value))\n",
    "                            except AttributeError:\n",
    "                                value_list.append(\"N/A\")\n",
    "                        else:\n",
    "                            value_list.append(\"N/A\")\n",
    "\n",
    "            current_date = datetime.fromtimestamp(unix_time).strftime(\"%Y-%m-%d\")\n",
    "            one_year_later = datetime.fromtimestamp(unix_time + 31536000).strftime(\n",
    "                 \"%Y-%m-%d\"\n",
    "            )\n",
    "\n",
    "            # SP500 prices now and one year later, and the percentage change\n",
    "            sp500_price = float(sp500_raw_data.loc[current_date, \"Adj Close\"])\n",
    "            sp500_1y_price = float(sp500_raw_data.loc[one_year_later, \"Adj Close\"])\n",
    "            sp500_p_change = round(\n",
    "                ((sp500_1y_price - sp500_price) / sp500_price * 100), 2\n",
    "            )\n",
    "\n",
    "            # Stock prices now and one year later. We need a try/except because some data is missing\n",
    "            stock_price, stock_1y_price = \"N/A\", \"N/A\"\n",
    "            try:\n",
    "                stock_price = float(stock_raw_data.loc[current_date, ticker.upper()])\n",
    "                stock_1y_price = float(stock_raw_data.loc[one_year_later, ticker.upper()])\n",
    "            except KeyError:\n",
    "                # If stock data is missing, we must skip this datapoint\n",
    "                continue\n",
    "\n",
    "            stock_p_change = round(\n",
    "                ((stock_1y_price - stock_price) / stock_price * 100), 2\n",
    "            )\n",
    "        # Append all our data to the dataframe.\n",
    "            new_df_row = [\n",
    "                date_stamp,\n",
    "                unix_time,\n",
    "                ticker,\n",
    "                stock_price,\n",
    "                stock_p_change,\n",
    "                sp500_price,\n",
    "                sp500_p_change,\n",
    "            ] + value_list\n",
    "            df = df.append(dict(zip(df_columns, new_df_row)), ignore_index=True)\n",
    "    # Remove rows with missing stock price data\n",
    "    df.dropna(axis=0, subset=[\"Price\", \"stock_p_change\"], inplace=True)\n",
    "    # Output the CSV\n",
    "    df.to_csv(\"keystats.csv\", index=False)"
   ]
  },
  {
   "cell_type": "code",
   "execution_count": 19,
   "id": "cac95328",
   "metadata": {},
   "outputs": [],
   "source": [
    "def status_calc(stock, sp500, outperformance=10):\n",
    "    \"\"\"A simple function to classify whether a stock outperformed the S&P500\n",
    "    :param stock: stock price\n",
    "    :param sp500: S&P500 price\n",
    "    :param outperformance: stock is classified 1 if stock price > S&P500 price + outperformance\n",
    "    :return: true/false\n",
    "    \"\"\"\n",
    "    if outperformance < 0:\n",
    "        raise ValueError(\"outperformance must be positive\")\n",
    "    return stock - sp500 >= outperformance"
   ]
  },
  {
   "cell_type": "code",
   "execution_count": 20,
   "id": "a491cce3",
   "metadata": {},
   "outputs": [
    {
     "name": "stderr",
     "output_type": "stream",
     "text": [
      "C:\\Users\\nickd\\lib\\site-packages\\sklearn\\preprocessing\\_data.py:239: UserWarning: Numerical issues were encountered when centering the data and might not be solved. Dataset may contain too large values. You may need to prescale your features.\n",
      "  warnings.warn(\n"
     ]
    },
    {
     "name": "stdout",
     "output_type": "stream",
     "text": [
      "3532\n",
      "Accuracy: 92.4\n",
      "Total Trades: 300\n",
      "Ending with Strategy: 4344890.0\n",
      "Ending with Market: 3410055.0\n",
      "Compared to market, we earn 27.414073966548923% more\n",
      "Average investment return: 44.82966666666667%\n",
      "Average market return: 13.6685%\n"
     ]
    }
   ],
   "source": [
    "def Build_Data_Set():\n",
    "    data_df = pd.read_csv(\"keystats.csv\")\n",
    "    data_df.drop_duplicates()\n",
    "    data_df.dropna(inplace=True)\n",
    "    data_df = data_df.reindex(np.random.permutation(data_df.index))\n",
    "    features = data_df.columns[4:]\n",
    "    X = np.array(data_df[features].values)\n",
    "    X = preprocessing.scale(X)\n",
    "\n",
    "    y = list(\n",
    "        status_calc(\n",
    "            data_df[\"stock_p_change\"], data_df[\"SP500_p_change\"], outperformance=10\n",
    "        )\n",
    "    )\n",
    "\n",
    "\n",
    "    Z = np.array(data_df[[\"stock_p_change\",\"SP500_p_change\"]])\n",
    "\n",
    "\n",
    "    return X,y,Z\n",
    "\n",
    "test_size = 1000\n",
    "\n",
    "invest_amount = 10000\n",
    "total_invests = 0\n",
    "if_market = 0\n",
    "if_strat = 0\n",
    "\n",
    "\n",
    "\n",
    "    \n",
    "X, y, Z = Build_Data_Set()\n",
    "print(len(X))\n",
    "\n",
    "    \n",
    "clf = RandomForestClassifier(n_estimators=100, random_state=1)\n",
    "clf.fit(X[:-test_size],y[:-test_size])\n",
    "\n",
    "correct_count = 0\n",
    "\n",
    "for x in range(1, test_size+1):\n",
    "    if clf.predict([X[-x]])[0] == y[-x]:\n",
    "        correct_count += 1\n",
    "\n",
    "    if clf.predict([X[-x]])[0] == 1:\n",
    "        invest_return = invest_amount + (invest_amount * (Z[-x][0]/100))\n",
    "        market_return = invest_amount + (invest_amount * (Z[-x][1]/100))\n",
    "        total_invests += 1\n",
    "        if_market += market_return\n",
    "        if_strat += invest_return\n",
    "            \n",
    "\n",
    "print(\"Accuracy:\", (correct_count/test_size) * 100.00)\n",
    "\n",
    "print(\"Total Trades:\", total_invests)\n",
    "print(\"Ending with Strategy:\",if_strat)\n",
    "print(\"Ending with Market:\",if_market)\n",
    "\n",
    "compared = ((if_strat - if_market) / if_market) * 100.0\n",
    "do_nothing = total_invests * invest_amount\n",
    "\n",
    "avg_market = ((if_market - do_nothing) / do_nothing) * 100.0\n",
    "avg_strat = ((if_strat - do_nothing) / do_nothing) * 100.0\n",
    "\n",
    "\n",
    "    \n",
    "print(\"Compared to market, we earn\",str(compared)+\"% more\")\n",
    "print(\"Average investment return:\", str(avg_strat)+\"%\")\n",
    "print(\"Average market return:\", str(avg_market)+\"%\")"
   ]
  },
  {
   "cell_type": "code",
   "execution_count": 21,
   "id": "ce7bc112",
   "metadata": {},
   "outputs": [
    {
     "name": "stdout",
     "output_type": "stream",
     "text": [
      "Epoch 1/100\n",
      "111/111 [==============================] - 10s 42ms/step - loss: 0.2302\n",
      "Epoch 2/100\n",
      "111/111 [==============================] - 5s 42ms/step - loss: 0.2250\n",
      "Epoch 3/100\n",
      "111/111 [==============================] - 5s 42ms/step - loss: 0.2221\n",
      "Epoch 4/100\n",
      "111/111 [==============================] - 5s 41ms/step - loss: 0.2224\n",
      "Epoch 5/100\n",
      "111/111 [==============================] - 5s 43ms/step - loss: 0.2214\n",
      "Epoch 6/100\n",
      "111/111 [==============================] - 5s 43ms/step - loss: 0.2206\n",
      "Epoch 7/100\n",
      "111/111 [==============================] - 5s 43ms/step - loss: 0.2215\n",
      "Epoch 8/100\n",
      "111/111 [==============================] - 5s 42ms/step - loss: 0.2202\n",
      "Epoch 9/100\n",
      "111/111 [==============================] - 5s 41ms/step - loss: 0.2213\n",
      "Epoch 10/100\n",
      "111/111 [==============================] - 5s 42ms/step - loss: 0.2181\n",
      "Epoch 11/100\n",
      "111/111 [==============================] - 5s 41ms/step - loss: 0.2188\n",
      "Epoch 12/100\n",
      "111/111 [==============================] - 5s 41ms/step - loss: 0.2205\n",
      "Epoch 13/100\n",
      "111/111 [==============================] - 5s 41ms/step - loss: 0.2195\n",
      "Epoch 14/100\n",
      "111/111 [==============================] - 5s 41ms/step - loss: 0.2189\n",
      "Epoch 15/100\n",
      "111/111 [==============================] - 4s 40ms/step - loss: 0.2186\n",
      "Epoch 16/100\n",
      "111/111 [==============================] - 5s 41ms/step - loss: 0.2163\n",
      "Epoch 17/100\n",
      "111/111 [==============================] - 5s 43ms/step - loss: 0.2180\n",
      "Epoch 18/100\n",
      "111/111 [==============================] - 5s 44ms/step - loss: 0.2193\n",
      "Epoch 19/100\n",
      "111/111 [==============================] - 4s 40ms/step - loss: 0.2189\n",
      "Epoch 20/100\n",
      "111/111 [==============================] - 4s 39ms/step - loss: 0.2189\n",
      "Epoch 21/100\n",
      "111/111 [==============================] - 4s 39ms/step - loss: 0.2176\n",
      "Epoch 22/100\n",
      "111/111 [==============================] - 4s 38ms/step - loss: 0.2173\n",
      "Epoch 23/100\n",
      "111/111 [==============================] - 4s 39ms/step - loss: 0.2162\n",
      "Epoch 24/100\n",
      "111/111 [==============================] - 4s 39ms/step - loss: 0.2166\n",
      "Epoch 25/100\n",
      "111/111 [==============================] - 4s 39ms/step - loss: 0.2200\n",
      "Epoch 26/100\n",
      "111/111 [==============================] - 4s 39ms/step - loss: 0.2172\n",
      "Epoch 27/100\n",
      "111/111 [==============================] - 4s 39ms/step - loss: 0.2158\n",
      "Epoch 28/100\n",
      "111/111 [==============================] - 4s 39ms/step - loss: 0.2149\n",
      "Epoch 29/100\n",
      "111/111 [==============================] - 4s 39ms/step - loss: 0.2169\n",
      "Epoch 30/100\n",
      "111/111 [==============================] - 4s 39ms/step - loss: 0.2148\n",
      "Epoch 31/100\n",
      "111/111 [==============================] - 4s 39ms/step - loss: 0.2155\n",
      "Epoch 32/100\n",
      "111/111 [==============================] - 4s 39ms/step - loss: 0.2161\n",
      "Epoch 33/100\n",
      "111/111 [==============================] - 4s 39ms/step - loss: 0.2158\n",
      "Epoch 34/100\n",
      "111/111 [==============================] - 4s 39ms/step - loss: 0.2155\n",
      "Epoch 35/100\n",
      "111/111 [==============================] - 4s 38ms/step - loss: 0.2146\n",
      "Epoch 36/100\n",
      "111/111 [==============================] - 4s 39ms/step - loss: 0.2143\n",
      "Epoch 37/100\n",
      "111/111 [==============================] - 4s 39ms/step - loss: 0.2149\n",
      "Epoch 38/100\n",
      "111/111 [==============================] - 4s 39ms/step - loss: 0.2143\n",
      "Epoch 39/100\n",
      "111/111 [==============================] - 4s 39ms/step - loss: 0.2128\n",
      "Epoch 40/100\n",
      "111/111 [==============================] - 4s 39ms/step - loss: 0.2121\n",
      "Epoch 41/100\n",
      "111/111 [==============================] - 4s 38ms/step - loss: 0.2108\n",
      "Epoch 42/100\n",
      "111/111 [==============================] - 4s 39ms/step - loss: 0.2101\n",
      "Epoch 43/100\n",
      "111/111 [==============================] - 4s 39ms/step - loss: 0.2013\n",
      "Epoch 44/100\n",
      "111/111 [==============================] - 4s 39ms/step - loss: 0.1763\n",
      "Epoch 45/100\n",
      "111/111 [==============================] - 4s 39ms/step - loss: 0.1728\n",
      "Epoch 46/100\n",
      "111/111 [==============================] - 4s 39ms/step - loss: 0.1440\n",
      "Epoch 47/100\n",
      "111/111 [==============================] - 4s 39ms/step - loss: 0.1185\n",
      "Epoch 48/100\n",
      "111/111 [==============================] - 4s 39ms/step - loss: 0.1084\n",
      "Epoch 49/100\n",
      "111/111 [==============================] - 4s 39ms/step - loss: 0.0886\n",
      "Epoch 50/100\n",
      "111/111 [==============================] - 4s 39ms/step - loss: 0.0769\n",
      "Epoch 51/100\n",
      "111/111 [==============================] - 4s 39ms/step - loss: 0.1001\n",
      "Epoch 52/100\n",
      "111/111 [==============================] - 4s 40ms/step - loss: 0.0578\n",
      "Epoch 53/100\n",
      "111/111 [==============================] - 4s 39ms/step - loss: 0.0549\n",
      "Epoch 54/100\n",
      "111/111 [==============================] - 4s 38ms/step - loss: 0.0498\n",
      "Epoch 55/100\n",
      "111/111 [==============================] - 4s 39ms/step - loss: 0.0529\n",
      "Epoch 56/100\n",
      "111/111 [==============================] - 4s 39ms/step - loss: 0.0537\n",
      "Epoch 57/100\n",
      "111/111 [==============================] - 4s 39ms/step - loss: 0.0638\n",
      "Epoch 58/100\n",
      "111/111 [==============================] - 4s 39ms/step - loss: 0.0493\n",
      "Epoch 59/100\n",
      "111/111 [==============================] - 4s 39ms/step - loss: 0.0549\n",
      "Epoch 60/100\n",
      "111/111 [==============================] - 4s 39ms/step - loss: 0.0603\n",
      "Epoch 61/100\n",
      "111/111 [==============================] - 4s 39ms/step - loss: 0.0399\n",
      "Epoch 62/100\n",
      "111/111 [==============================] - 4s 39ms/step - loss: 0.0411\n",
      "Epoch 63/100\n",
      "111/111 [==============================] - 4s 39ms/step - loss: 0.0478\n",
      "Epoch 64/100\n",
      "111/111 [==============================] - 4s 39ms/step - loss: 0.0500\n",
      "Epoch 65/100\n",
      "111/111 [==============================] - 4s 39ms/step - loss: 0.0453\n",
      "Epoch 66/100\n",
      "111/111 [==============================] - 4s 39ms/step - loss: 0.0323\n",
      "Epoch 67/100\n",
      "111/111 [==============================] - 4s 39ms/step - loss: 0.0397\n",
      "Epoch 68/100\n",
      "111/111 [==============================] - 4s 39ms/step - loss: 0.0387\n",
      "Epoch 69/100\n",
      "111/111 [==============================] - 4s 39ms/step - loss: 0.0362\n",
      "Epoch 70/100\n",
      "111/111 [==============================] - 4s 39ms/step - loss: 0.0349\n",
      "Epoch 71/100\n",
      "111/111 [==============================] - 4s 39ms/step - loss: 0.0340\n",
      "Epoch 72/100\n",
      "111/111 [==============================] - 4s 39ms/step - loss: 0.0381\n",
      "Epoch 73/100\n",
      "111/111 [==============================] - 4s 39ms/step - loss: 0.0309\n",
      "Epoch 74/100\n",
      "111/111 [==============================] - 4s 39ms/step - loss: 0.0349\n",
      "Epoch 75/100\n",
      "111/111 [==============================] - 4s 39ms/step - loss: 0.0291\n",
      "Epoch 76/100\n",
      "111/111 [==============================] - 5s 41ms/step - loss: 0.0342\n",
      "Epoch 77/100\n",
      "111/111 [==============================] - 5s 41ms/step - loss: 0.0306\n",
      "Epoch 78/100\n",
      "111/111 [==============================] - 4s 40ms/step - loss: 0.0305\n",
      "Epoch 79/100\n",
      "111/111 [==============================] - 4s 40ms/step - loss: 0.0286\n",
      "Epoch 80/100\n",
      "111/111 [==============================] - 4s 40ms/step - loss: 0.0444\n",
      "Epoch 81/100\n",
      "111/111 [==============================] - 4s 39ms/step - loss: 0.0345\n",
      "Epoch 82/100\n",
      "111/111 [==============================] - 4s 39ms/step - loss: 0.0335\n",
      "Epoch 83/100\n",
      "111/111 [==============================] - 4s 39ms/step - loss: 0.0241\n",
      "Epoch 84/100\n",
      "111/111 [==============================] - 4s 39ms/step - loss: 0.0272\n",
      "Epoch 85/100\n",
      "111/111 [==============================] - 4s 39ms/step - loss: 0.0363\n",
      "Epoch 86/100\n",
      "111/111 [==============================] - 4s 39ms/step - loss: 0.0188\n",
      "Epoch 87/100\n",
      "111/111 [==============================] - 4s 39ms/step - loss: 0.0292\n",
      "Epoch 88/100\n",
      "111/111 [==============================] - 4s 39ms/step - loss: 0.0247\n",
      "Epoch 89/100\n",
      "111/111 [==============================] - 4s 40ms/step - loss: 0.0342\n",
      "Epoch 90/100\n",
      "111/111 [==============================] - 4s 39ms/step - loss: 0.0279\n",
      "Epoch 91/100\n",
      "111/111 [==============================] - 4s 39ms/step - loss: 0.0252\n",
      "Epoch 92/100\n",
      "111/111 [==============================] - 4s 39ms/step - loss: 0.0278\n",
      "Epoch 93/100\n",
      "111/111 [==============================] - 4s 39ms/step - loss: 0.0251\n",
      "Epoch 94/100\n",
      "111/111 [==============================] - 4s 39ms/step - loss: 0.0316\n",
      "Epoch 95/100\n",
      "111/111 [==============================] - 4s 39ms/step - loss: 0.0223\n",
      "Epoch 96/100\n",
      "111/111 [==============================] - 4s 39ms/step - loss: 0.0292\n",
      "Epoch 97/100\n",
      "111/111 [==============================] - 4s 39ms/step - loss: 0.0222\n",
      "Epoch 98/100\n"
     ]
    },
    {
     "name": "stdout",
     "output_type": "stream",
     "text": [
      "111/111 [==============================] - 4s 38ms/step - loss: 0.0222\n",
      "Epoch 99/100\n",
      "111/111 [==============================] - 4s 39ms/step - loss: 0.0226\n",
      "Epoch 100/100\n",
      "111/111 [==============================] - 4s 39ms/step - loss: 0.0405\n"
     ]
    },
    {
     "data": {
      "text/plain": [
       "<keras.callbacks.History at 0x1a941ee3d60>"
      ]
     },
     "execution_count": 21,
     "metadata": {},
     "output_type": "execute_result"
    }
   ],
   "source": [
    "data_df = pd.read_csv(\"keystats.csv\")\n",
    "data_df.drop_duplicates()\n",
    "data_df.dropna(inplace=True)\n",
    "data_df = data_df.reindex(np.random.permutation(data_df.index))\n",
    "features = data_df.columns[4:]\n",
    "X = np.array(data_df[features].values)\n",
    "sc = MinMaxScaler(feature_range=(0,1))\n",
    "X = sc.fit_transform(X)\n",
    "y = np.array(\n",
    "    status_calc(\n",
    "        data_df[\"stock_p_change\"], data_df[\"SP500_p_change\"], outperformance=10\n",
    "    )\n",
    ")\n",
    "y.astype(int)\n",
    "X = np.reshape(X, (X.shape[0], X.shape[1], 1))\n",
    "model = Sequential()\n",
    "model.add(LSTM(units=50,return_sequences=True,input_shape=(X.shape[1], 1)))\n",
    "model.add(Dropout(0.2))\n",
    "model.add(LSTM(units=50,return_sequences=True))\n",
    "model.add(Dropout(0.2))\n",
    "model.add(LSTM(units=50,return_sequences=True))\n",
    "model.add(Dropout(0.2))\n",
    "model.add(LSTM(units=50))\n",
    "model.add(Dropout(0.2))\n",
    "model.add(Dense(units=1))\n",
    "model.compile(optimizer='adam',loss='mean_squared_error')\n",
    "model.fit(X,y,epochs=100,batch_size=32)\n"
   ]
  },
  {
   "cell_type": "code",
   "execution_count": 22,
   "id": "788cf61f",
   "metadata": {},
   "outputs": [],
   "source": [
    "if not os.path.exists(\"forward_json/\"):\n",
    "    os.makedirs(\"forward_json/\")\n",
    "\n",
    "    # Retrieve a list of tickers from the fundamental data folder\n",
    "ticker_list = os.listdir(statspath)"
   ]
  },
  {
   "cell_type": "code",
   "execution_count": 23,
   "id": "d84f1a4f",
   "metadata": {},
   "outputs": [
    {
     "name": "stderr",
     "output_type": "stream",
     "text": [
      "Download progress::   1%|▌                                                        | 6/560 [00:01<02:55,  3.15tickers/s]"
     ]
    },
    {
     "name": "stdout",
     "output_type": "stream",
     "text": [
      "ace: HTTP Error 404: Not Found\n",
      "\n"
     ]
    },
    {
     "name": "stderr",
     "output_type": "stream",
     "text": [
      "Download progress::   4%|██                                                      | 20/560 [00:07<02:33,  3.52tickers/s]"
     ]
    },
    {
     "name": "stdout",
     "output_type": "stream",
     "text": [
      "aet: HTTP Error 404: Not Found\n",
      "\n"
     ]
    },
    {
     "name": "stderr",
     "output_type": "stream",
     "text": [
      "Download progress::   4%|██▏                                                     | 22/560 [00:10<05:55,  1.51tickers/s]"
     ]
    },
    {
     "name": "stdout",
     "output_type": "stream",
     "text": [
      "agn: HTTP Error 404: Not Found\n",
      "\n"
     ]
    },
    {
     "name": "stderr",
     "output_type": "stream",
     "text": [
      "Download progress::   5%|██▉                                                     | 29/560 [00:13<03:20,  2.64tickers/s]"
     ]
    },
    {
     "name": "stdout",
     "output_type": "stream",
     "text": [
      "alxn: HTTP Error 404: Not Found\n",
      "\n"
     ]
    },
    {
     "name": "stderr",
     "output_type": "stream",
     "text": [
      "Download progress::   7%|███▊                                                    | 38/560 [00:18<02:40,  3.26tickers/s]"
     ]
    },
    {
     "name": "stdout",
     "output_type": "stream",
     "text": [
      "ann: HTTP Error 404: Not Found\n",
      "\n"
     ]
    },
    {
     "name": "stderr",
     "output_type": "stream",
     "text": [
      "Download progress::   7%|████                                                    | 41/560 [00:20<04:59,  1.73tickers/s]"
     ]
    },
    {
     "name": "stdout",
     "output_type": "stream",
     "text": [
      "apc: HTTP Error 404: Not Found\n",
      "\n"
     ]
    },
    {
     "name": "stderr",
     "output_type": "stream",
     "text": [
      "Download progress::   8%|████▍                                                   | 44/560 [00:23<05:51,  1.47tickers/s]"
     ]
    },
    {
     "name": "stdout",
     "output_type": "stream",
     "text": [
      "apol: HTTP Error 404: Not Found\n",
      "\n"
     ]
    },
    {
     "name": "stderr",
     "output_type": "stream",
     "text": [
      "\r",
      "Download progress::   8%|████▌                                                   | 45/560 [00:25<09:40,  1.13s/tickers]"
     ]
    },
    {
     "name": "stdout",
     "output_type": "stream",
     "text": [
      "arg: HTTP Error 404: Not Found\n",
      "\n"
     ]
    },
    {
     "name": "stderr",
     "output_type": "stream",
     "text": [
      "\r",
      "Download progress::   8%|████▌                                                   | 46/560 [00:28<12:30,  1.46s/tickers]"
     ]
    },
    {
     "name": "stdout",
     "output_type": "stream",
     "text": [
      "arna: HTTP Error 404: Not Found\n",
      "\n"
     ]
    },
    {
     "name": "stderr",
     "output_type": "stream",
     "text": [
      "\r",
      "Download progress::   8%|████▋                                                   | 47/560 [00:30<14:38,  1.71s/tickers]"
     ]
    },
    {
     "name": "stdout",
     "output_type": "stream",
     "text": [
      "aro: HTTP Error 404: Not Found\n",
      "\n"
     ]
    },
    {
     "name": "stderr",
     "output_type": "stream",
     "text": [
      "Download progress::   9%|█████                                                   | 51/560 [00:33<06:37,  1.28tickers/s]"
     ]
    },
    {
     "name": "stdout",
     "output_type": "stream",
     "text": [
      "avp: HTTP Error 404: Not Found\n",
      "\n"
     ]
    },
    {
     "name": "stderr",
     "output_type": "stream",
     "text": [
      "Download progress::  11%|█████▉                                                  | 59/560 [00:37<02:44,  3.04tickers/s]"
     ]
    },
    {
     "name": "stdout",
     "output_type": "stream",
     "text": [
      "bbry: HTTP Error 404: Not Found\n",
      "\n"
     ]
    },
    {
     "name": "stderr",
     "output_type": "stream",
     "text": [
      "\r",
      "Download progress::  11%|██████                                                  | 60/560 [00:39<07:34,  1.10tickers/s]"
     ]
    },
    {
     "name": "stdout",
     "output_type": "stream",
     "text": [
      "bbt: HTTP Error 404: Not Found\n",
      "\n"
     ]
    },
    {
     "name": "stderr",
     "output_type": "stream",
     "text": [
      "Download progress::  11%|██████▏                                                 | 62/560 [00:42<08:38,  1.04s/tickers]"
     ]
    },
    {
     "name": "stdout",
     "output_type": "stream",
     "text": [
      "bcr: HTTP Error 404: Not Found\n",
      "\n"
     ]
    },
    {
     "name": "stderr",
     "output_type": "stream",
     "text": [
      "Download progress::  12%|██████▋                                                 | 67/560 [00:45<04:13,  1.95tickers/s]"
     ]
    },
    {
     "name": "stdout",
     "output_type": "stream",
     "text": [
      "bhi: HTTP Error 404: Not Found\n",
      "\n"
     ]
    },
    {
     "name": "stderr",
     "output_type": "stream",
     "text": [
      "Download progress::  13%|███████                                                 | 71/560 [00:48<04:06,  1.99tickers/s]"
     ]
    },
    {
     "name": "stdout",
     "output_type": "stream",
     "text": [
      "bks: HTTP Error 404: Not Found\n",
      "\n"
     ]
    },
    {
     "name": "stderr",
     "output_type": "stream",
     "text": [
      "Download progress::  13%|███████▎                                                | 73/560 [00:50<06:31,  1.24tickers/s]"
     ]
    },
    {
     "name": "stdout",
     "output_type": "stream",
     "text": [
      "bll: HTTP Error 404: Not Found\n",
      "\n"
     ]
    },
    {
     "name": "stderr",
     "output_type": "stream",
     "text": [
      "\r",
      "Download progress::  13%|███████▍                                                | 74/560 [00:53<10:04,  1.24s/tickers]"
     ]
    },
    {
     "name": "stdout",
     "output_type": "stream",
     "text": [
      "bmc: HTTP Error 404: Not Found\n",
      "\n"
     ]
    },
    {
     "name": "stderr",
     "output_type": "stream",
     "text": [
      "Download progress::  14%|███████▋                                                | 77/560 [00:55<07:00,  1.15tickers/s]"
     ]
    },
    {
     "name": "stdout",
     "output_type": "stream",
     "text": [
      "brcm: HTTP Error 404: Not Found\n",
      "\n"
     ]
    },
    {
     "name": "stderr",
     "output_type": "stream",
     "text": [
      "Download progress::  15%|████████▍                                               | 84/560 [00:59<02:57,  2.68tickers/s]"
     ]
    },
    {
     "name": "stdout",
     "output_type": "stream",
     "text": [
      "ca: HTTP Error 404: Not Found\n",
      "\n"
     ]
    },
    {
     "name": "stderr",
     "output_type": "stream",
     "text": [
      "\r",
      "Download progress::  15%|████████▌                                               | 85/560 [01:01<07:26,  1.06tickers/s]"
     ]
    },
    {
     "name": "stdout",
     "output_type": "stream",
     "text": [
      "cab: HTTP Error 404: Not Found\n",
      "\n"
     ]
    },
    {
     "name": "stderr",
     "output_type": "stream",
     "text": [
      "Download progress::  16%|████████▊                                               | 88/560 [01:04<06:08,  1.28tickers/s]"
     ]
    },
    {
     "name": "stdout",
     "output_type": "stream",
     "text": [
      "cam: HTTP Error 404: Not Found\n",
      "\n"
     ]
    },
    {
     "name": "stderr",
     "output_type": "stream",
     "text": [
      "Download progress::  16%|█████████▏                                              | 92/560 [01:07<04:51,  1.61tickers/s]"
     ]
    },
    {
     "name": "stdout",
     "output_type": "stream",
     "text": [
      "cbg: HTTP Error 404: Not Found\n",
      "\n"
     ]
    },
    {
     "name": "stderr",
     "output_type": "stream",
     "text": [
      "\r",
      "Download progress::  17%|█████████▎                                              | 93/560 [01:09<08:28,  1.09s/tickers]"
     ]
    },
    {
     "name": "stdout",
     "output_type": "stream",
     "text": [
      "cbs: HTTP Error 404: Not Found\n",
      "\n"
     ]
    },
    {
     "name": "stderr",
     "output_type": "stream",
     "text": [
      "\r",
      "Download progress::  17%|█████████▍                                              | 94/560 [01:12<11:10,  1.44s/tickers]"
     ]
    },
    {
     "name": "stdout",
     "output_type": "stream",
     "text": [
      "cce: HTTP Error 404: Not Found\n",
      "\n"
     ]
    },
    {
     "name": "stderr",
     "output_type": "stream",
     "text": [
      "Download progress::  17%|█████████▋                                              | 97/560 [01:14<07:11,  1.07tickers/s]"
     ]
    },
    {
     "name": "stdout",
     "output_type": "stream",
     "text": [
      "celg: HTTP Error 404: Not Found\n",
      "\n"
     ]
    },
    {
     "name": "stderr",
     "output_type": "stream",
     "text": [
      "\r",
      "Download progress::  18%|█████████▊                                              | 98/560 [01:16<10:00,  1.30s/tickers]"
     ]
    },
    {
     "name": "stdout",
     "output_type": "stream",
     "text": [
      "cern: HTTP Error 404: Not Found\n",
      "\n"
     ]
    },
    {
     "name": "stderr",
     "output_type": "stream",
     "text": [
      "Download progress::  18%|█████████▊                                             | 100/560 [01:19<09:14,  1.21s/tickers]"
     ]
    },
    {
     "name": "stdout",
     "output_type": "stream",
     "text": [
      "cfn: HTTP Error 404: Not Found\n",
      "\n"
     ]
    },
    {
     "name": "stderr",
     "output_type": "stream",
     "text": [
      "Download progress::  21%|███████████▋                                           | 119/560 [01:26<01:50,  4.00tickers/s]"
     ]
    },
    {
     "name": "stdout",
     "output_type": "stream",
     "text": [
      "cog: HTTP Error 404: Not Found\n",
      "\n"
     ]
    },
    {
     "name": "stderr",
     "output_type": "stream",
     "text": [
      "\r",
      "Download progress::  21%|███████████▊                                           | 120/560 [01:28<06:08,  1.19tickers/s]"
     ]
    },
    {
     "name": "stdout",
     "output_type": "stream",
     "text": [
      "coh: HTTP Error 404: Not Found\n",
      "\n"
     ]
    },
    {
     "name": "stderr",
     "output_type": "stream",
     "text": [
      "\r",
      "Download progress::  22%|███████████▉                                           | 121/560 [01:31<09:11,  1.26s/tickers]"
     ]
    },
    {
     "name": "stdout",
     "output_type": "stream",
     "text": [
      "col: HTTP Error 404: Not Found\n",
      "\n"
     ]
    },
    {
     "name": "stderr",
     "output_type": "stream",
     "text": [
      "Download progress::  22%|████████████▏                                          | 124/560 [01:34<07:05,  1.03tickers/s]"
     ]
    },
    {
     "name": "stdout",
     "output_type": "stream",
     "text": [
      "cov: HTTP Error 404: Not Found\n",
      "\n"
     ]
    },
    {
     "name": "stderr",
     "output_type": "stream",
     "text": [
      "Download progress::  23%|████████████▍                                          | 127/560 [01:36<05:29,  1.31tickers/s]"
     ]
    },
    {
     "name": "stdout",
     "output_type": "stream",
     "text": [
      "csc: HTTP Error 404: Not Found\n",
      "\n"
     ]
    },
    {
     "name": "stderr",
     "output_type": "stream",
     "text": [
      "Download progress::  23%|████████████▊                                          | 131/560 [01:39<04:10,  1.71tickers/s]"
     ]
    },
    {
     "name": "stdout",
     "output_type": "stream",
     "text": [
      "ctl: HTTP Error 404: Not Found\n",
      "\n"
     ]
    },
    {
     "name": "stderr",
     "output_type": "stream",
     "text": [
      "Download progress::  24%|█████████████▏                                         | 134/560 [01:42<04:56,  1.44tickers/s]"
     ]
    },
    {
     "name": "stdout",
     "output_type": "stream",
     "text": [
      "cvc: HTTP Error 404: Not Found\n",
      "\n"
     ]
    },
    {
     "name": "stderr",
     "output_type": "stream",
     "text": [
      "Download progress::  26%|██████████████                                         | 143/560 [01:46<02:28,  2.82tickers/s]"
     ]
    },
    {
     "name": "stdout",
     "output_type": "stream",
     "text": [
      "df: HTTP Error 404: Not Found\n",
      "\n"
     ]
    },
    {
     "name": "stderr",
     "output_type": "stream",
     "text": [
      "Download progress::  27%|██████████████▋                                        | 150/560 [01:51<02:38,  2.58tickers/s]"
     ]
    },
    {
     "name": "stdout",
     "output_type": "stream",
     "text": [
      "disca: HTTP Error 404: Not Found\n",
      "\n"
     ]
    },
    {
     "name": "stderr",
     "output_type": "stream",
     "text": [
      "Download progress::  27%|██████████████▉                                        | 152/560 [01:53<04:56,  1.37tickers/s]"
     ]
    },
    {
     "name": "stdout",
     "output_type": "stream",
     "text": [
      "dlph: HTTP Error 404: Not Found\n",
      "\n"
     ]
    },
    {
     "name": "stderr",
     "output_type": "stream",
     "text": [
      "Download progress::  28%|███████████████▎                                       | 156/560 [01:56<03:54,  1.72tickers/s]"
     ]
    },
    {
     "name": "stdout",
     "output_type": "stream",
     "text": [
      "dnr: HTTP Error 404: Not Found\n",
      "\n"
     ]
    },
    {
     "name": "stderr",
     "output_type": "stream",
     "text": [
      "Download progress::  29%|███████████████▋                                       | 160/560 [01:59<03:43,  1.79tickers/s]"
     ]
    },
    {
     "name": "stdout",
     "output_type": "stream",
     "text": [
      "dps: HTTP Error 404: Not Found\n",
      "\n"
     ]
    },
    {
     "name": "stderr",
     "output_type": "stream",
     "text": [
      "Download progress::  29%|███████████████▉                                       | 162/560 [02:02<05:27,  1.21tickers/s]"
     ]
    },
    {
     "name": "stdout",
     "output_type": "stream",
     "text": [
      "dsw: HTTP Error 404: Not Found\n",
      "\n"
     ]
    },
    {
     "name": "stderr",
     "output_type": "stream",
     "text": [
      "Download progress::  29%|████████████████                                       | 164/560 [02:04<06:19,  1.04tickers/s]"
     ]
    },
    {
     "name": "stdout",
     "output_type": "stream",
     "text": [
      "dtv: HTTP Error 404: Not Found\n",
      "\n"
     ]
    },
    {
     "name": "stderr",
     "output_type": "stream",
     "text": [
      "Download progress::  31%|████████████████▊                                      | 171/560 [02:08<02:46,  2.34tickers/s]"
     ]
    },
    {
     "name": "stdout",
     "output_type": "stream",
     "text": [
      "ecyt: HTTP Error 404: Not Found\n",
      "\n"
     ]
    },
    {
     "name": "stderr",
     "output_type": "stream",
     "text": [
      "Download progress::  31%|█████████████████▎                                     | 176/560 [02:12<02:37,  2.44tickers/s]"
     ]
    },
    {
     "name": "stdout",
     "output_type": "stream",
     "text": [
      "emc: HTTP Error 404: Not Found\n",
      "\n"
     ]
    },
    {
     "name": "stderr",
     "output_type": "stream",
     "text": [
      "Download progress::  32%|█████████████████▉                                     | 182/560 [02:15<02:28,  2.55tickers/s]"
     ]
    },
    {
     "name": "stdout",
     "output_type": "stream",
     "text": [
      "esrx: HTTP Error 404: Not Found\n",
      "\n"
     ]
    },
    {
     "name": "stderr",
     "output_type": "stream",
     "text": [
      "\r",
      "Download progress::  33%|█████████████████▉                                     | 183/560 [02:17<05:55,  1.06tickers/s]"
     ]
    },
    {
     "name": "stdout",
     "output_type": "stream",
     "text": [
      "esv: HTTP Error 404: Not Found\n",
      "\n"
     ]
    },
    {
     "name": "stderr",
     "output_type": "stream",
     "text": [
      "\r",
      "Download progress::  33%|██████████████████                                     | 184/560 [02:20<08:18,  1.33s/tickers]"
     ]
    },
    {
     "name": "stdout",
     "output_type": "stream",
     "text": [
      "etfc: HTTP Error 404: Not Found\n",
      "\n"
     ]
    },
    {
     "name": "stderr",
     "output_type": "stream",
     "text": [
      "Download progress::  35%|███████████████████                                    | 194/560 [02:25<02:01,  3.00tickers/s]"
     ]
    },
    {
     "name": "stdout",
     "output_type": "stream",
     "text": [
      "fb: HTTP Error 404: Not Found\n",
      "\n"
     ]
    },
    {
     "name": "stderr",
     "output_type": "stream",
     "text": [
      "Download progress::  35%|███████████████████▎                                   | 196/560 [02:27<04:17,  1.41tickers/s]"
     ]
    },
    {
     "name": "stdout",
     "output_type": "stream",
     "text": [
      "fdo: HTTP Error 404: Not Found\n",
      "\n"
     ]
    },
    {
     "name": "stderr",
     "output_type": "stream",
     "text": [
      "Download progress::  37%|████████████████████▏                                  | 205/560 [02:32<02:03,  2.87tickers/s]"
     ]
    },
    {
     "name": "stdout",
     "output_type": "stream",
     "text": [
      "flir: HTTP Error 404: Not Found\n",
      "\n"
     ]
    },
    {
     "name": "stderr",
     "output_type": "stream",
     "text": [
      "Download progress::  38%|████████████████████▋                                  | 211/560 [02:35<02:00,  2.89tickers/s]"
     ]
    },
    {
     "name": "stdout",
     "output_type": "stream",
     "text": [
      "frx: HTTP Error 404: Not Found\n",
      "\n"
     ]
    },
    {
     "name": "stderr",
     "output_type": "stream",
     "text": [
      "Download progress::  38%|█████████████████████                                  | 214/560 [02:38<03:27,  1.67tickers/s]"
     ]
    },
    {
     "name": "stdout",
     "output_type": "stream",
     "text": [
      "ftr: HTTP Error 404: Not Found\n",
      "\n"
     ]
    },
    {
     "name": "stderr",
     "output_type": "stream",
     "text": [
      "\r",
      "Download progress::  38%|█████████████████████                                  | 215/560 [02:40<06:09,  1.07s/tickers]"
     ]
    },
    {
     "name": "stdout",
     "output_type": "stream",
     "text": [
      "gas: HTTP Error 404: Not Found\n",
      "\n"
     ]
    },
    {
     "name": "stderr",
     "output_type": "stream",
     "text": [
      "Download progress::  40%|██████████████████████                                 | 224/560 [02:44<02:01,  2.78tickers/s]"
     ]
    },
    {
     "name": "stdout",
     "output_type": "stream",
     "text": [
      "gmcr: HTTP Error 404: Not Found\n",
      "\n"
     ]
    },
    {
     "name": "stderr",
     "output_type": "stream",
     "text": [
      "Download progress::  42%|███████████████████████▎                               | 237/560 [02:50<01:22,  3.91tickers/s]"
     ]
    },
    {
     "name": "stdout",
     "output_type": "stream",
     "text": [
      "har: HTTP Error 404: Not Found\n",
      "\n"
     ]
    },
    {
     "name": "stderr",
     "output_type": "stream",
     "text": [
      "Download progress::  43%|███████████████████████▌                               | 240/560 [02:52<02:54,  1.83tickers/s]"
     ]
    },
    {
     "name": "stdout",
     "output_type": "stream",
     "text": [
      "hcbk: HTTP Error 404: Not Found\n",
      "\n"
     ]
    },
    {
     "name": "stderr",
     "output_type": "stream",
     "text": [
      "\r",
      "Download progress::  43%|███████████████████████▋                               | 241/560 [02:55<05:33,  1.05s/tickers]"
     ]
    },
    {
     "name": "stdout",
     "output_type": "stream",
     "text": [
      "hcn: HTTP Error 404: Not Found\n",
      "\n"
     ]
    },
    {
     "name": "stderr",
     "output_type": "stream",
     "text": [
      "Download progress::  44%|████████████████████████▎                              | 248/560 [02:58<02:05,  2.49tickers/s]"
     ]
    },
    {
     "name": "stdout",
     "output_type": "stream",
     "text": [
      "hot: HTTP Error 404: Not Found\n",
      "\n"
     ]
    },
    {
     "name": "stderr",
     "output_type": "stream",
     "text": [
      "Download progress::  45%|████████████████████████▉                              | 254/560 [03:02<02:09,  2.36tickers/s]"
     ]
    },
    {
     "name": "stdout",
     "output_type": "stream",
     "text": [
      "hrs: HTTP Error 404: Not Found\n",
      "\n"
     ]
    },
    {
     "name": "stderr",
     "output_type": "stream",
     "text": [
      "\r",
      "Download progress::  46%|█████████████████████████                              | 255/560 [03:05<05:06,  1.01s/tickers]"
     ]
    },
    {
     "name": "stdout",
     "output_type": "stream",
     "text": [
      "hsp: HTTP Error 404: Not Found\n",
      "\n"
     ]
    },
    {
     "name": "stderr",
     "output_type": "stream",
     "text": [
      "Download progress::  49%|███████████████████████████                            | 275/560 [03:12<01:19,  3.61tickers/s]"
     ]
    },
    {
     "name": "stdout",
     "output_type": "stream",
     "text": [
      "jcp: HTTP Error 404: Not Found\n",
      "\n"
     ]
    },
    {
     "name": "stderr",
     "output_type": "stream",
     "text": [
      "\r",
      "Download progress::  49%|███████████████████████████                            | 276/560 [03:14<04:05,  1.16tickers/s]"
     ]
    },
    {
     "name": "stdout",
     "output_type": "stream",
     "text": [
      "jdsu: HTTP Error 404: Not Found\n",
      "\n"
     ]
    },
    {
     "name": "stderr",
     "output_type": "stream",
     "text": [
      "\r",
      "Download progress::  49%|███████████████████████████▏                           | 277/560 [03:16<05:59,  1.27s/tickers]"
     ]
    },
    {
     "name": "stdout",
     "output_type": "stream",
     "text": [
      "jec: HTTP Error 404: Not Found\n",
      "\n"
     ]
    },
    {
     "name": "stderr",
     "output_type": "stream",
     "text": [
      "Download progress::  50%|███████████████████████████▌                           | 280/560 [03:19<04:26,  1.05tickers/s]"
     ]
    },
    {
     "name": "stdout",
     "output_type": "stream",
     "text": [
      "josb: HTTP Error 404: Not Found\n",
      "\n"
     ]
    },
    {
     "name": "stderr",
     "output_type": "stream",
     "text": [
      "\r",
      "Download progress::  50%|███████████████████████████▌                           | 281/560 [03:21<06:09,  1.32s/tickers]"
     ]
    },
    {
     "name": "stdout",
     "output_type": "stream",
     "text": [
      "joy: HTTP Error 404: Not Found\n",
      "\n"
     ]
    },
    {
     "name": "stderr",
     "output_type": "stream",
     "text": [
      "Download progress::  52%|████████████████████████████▊                          | 293/560 [03:27<01:27,  3.05tickers/s]"
     ]
    },
    {
     "name": "stdout",
     "output_type": "stream",
     "text": [
      "krft: HTTP Error 404: Not Found\n",
      "\n"
     ]
    },
    {
     "name": "stderr",
     "output_type": "stream",
     "text": [
      "Download progress::  53%|████████████████████████████▉                          | 295/560 [03:29<03:18,  1.34tickers/s]"
     ]
    },
    {
     "name": "stdout",
     "output_type": "stream",
     "text": [
      "ksu: HTTP Error 404: Not Found\n",
      "\n"
     ]
    },
    {
     "name": "stderr",
     "output_type": "stream",
     "text": [
      "Download progress::  54%|█████████████████████████████▋                         | 302/560 [03:33<01:42,  2.51tickers/s]"
     ]
    },
    {
     "name": "stdout",
     "output_type": "stream",
     "text": [
      "lltc: HTTP Error 404: Not Found\n",
      "\n"
     ]
    },
    {
     "name": "stderr",
     "output_type": "stream",
     "text": [
      "Download progress::  54%|█████████████████████████████▊                         | 304/560 [03:36<03:05,  1.38tickers/s]"
     ]
    },
    {
     "name": "stdout",
     "output_type": "stream",
     "text": [
      "lm: HTTP Error 404: Not Found\n",
      "\n"
     ]
    },
    {
     "name": "stderr",
     "output_type": "stream",
     "text": [
      "Download progress::  55%|██████████████████████████████▏                        | 307/560 [03:38<02:53,  1.46tickers/s]"
     ]
    },
    {
     "name": "stdout",
     "output_type": "stream",
     "text": [
      "lo: HTTP Error 404: Not Found\n",
      "\n"
     ]
    },
    {
     "name": "stderr",
     "output_type": "stream",
     "text": [
      "Download progress::  56%|██████████████████████████████▌                        | 311/560 [03:42<02:31,  1.64tickers/s]"
     ]
    },
    {
     "name": "stdout",
     "output_type": "stream",
     "text": [
      "ltd: HTTP Error 404: Not Found\n",
      "\n"
     ]
    },
    {
     "name": "stderr",
     "output_type": "stream",
     "text": [
      "\r",
      "Download progress::  56%|██████████████████████████████▋                        | 312/560 [03:44<04:33,  1.10s/tickers]"
     ]
    },
    {
     "name": "stdout",
     "output_type": "stream",
     "text": [
      "luk: HTTP Error 404: Not Found\n",
      "\n"
     ]
    },
    {
     "name": "stderr",
     "output_type": "stream",
     "text": [
      "Download progress::  58%|███████████████████████████████▉                       | 325/560 [03:49<01:09,  3.37tickers/s]"
     ]
    },
    {
     "name": "stdout",
     "output_type": "stream",
     "text": [
      "mcp: HTTP Error 404: Not Found\n",
      "\n"
     ]
    },
    {
     "name": "stderr",
     "output_type": "stream",
     "text": [
      "Download progress::  59%|████████████████████████████████▍                      | 330/560 [03:53<01:42,  2.24tickers/s]"
     ]
    },
    {
     "name": "stdout",
     "output_type": "stream",
     "text": [
      "mhfi: HTTP Error 404: Not Found\n",
      "\n"
     ]
    },
    {
     "name": "stderr",
     "output_type": "stream",
     "text": [
      "\r",
      "Download progress::  59%|████████████████████████████████▌                      | 331/560 [03:55<03:49,  1.00s/tickers]"
     ]
    },
    {
     "name": "stdout",
     "output_type": "stream",
     "text": [
      "mjn: HTTP Error 404: Not Found\n",
      "\n"
     ]
    },
    {
     "name": "stderr",
     "output_type": "stream",
     "text": [
      "Download progress::  60%|█████████████████████████████████                      | 337/560 [03:59<01:54,  1.95tickers/s]"
     ]
    },
    {
     "name": "stdout",
     "output_type": "stream",
     "text": [
      "molx: HTTP Error 404: Not Found\n",
      "\n"
     ]
    },
    {
     "name": "stderr",
     "output_type": "stream",
     "text": [
      "Download progress::  62%|██████████████████████████████████▎                    | 349/560 [04:04<00:56,  3.74tickers/s]"
     ]
    },
    {
     "name": "stdout",
     "output_type": "stream",
     "text": [
      "mwv: HTTP Error 404: Not Found\n",
      "\n"
     ]
    },
    {
     "name": "stderr",
     "output_type": "stream",
     "text": [
      "\r",
      "Download progress::  62%|██████████████████████████████████▍                    | 350/560 [04:06<02:59,  1.17tickers/s]"
     ]
    },
    {
     "name": "stdout",
     "output_type": "stream",
     "text": [
      "myl: HTTP Error 404: Not Found\n",
      "\n"
     ]
    },
    {
     "name": "stderr",
     "output_type": "stream",
     "text": [
      "\r",
      "Download progress::  63%|██████████████████████████████████▍                    | 351/560 [04:09<04:25,  1.27s/tickers]"
     ]
    },
    {
     "name": "stdout",
     "output_type": "stream",
     "text": [
      "nbl: HTTP Error 404: Not Found\n",
      "\n"
     ]
    },
    {
     "name": "stderr",
     "output_type": "stream",
     "text": [
      "Download progress::  64%|███████████████████████████████████▏                   | 358/560 [04:12<01:22,  2.45tickers/s]"
     ]
    },
    {
     "name": "stdout",
     "output_type": "stream",
     "text": [
      "nfx: HTTP Error 404: Not Found\n",
      "\n"
     ]
    },
    {
     "name": "stderr",
     "output_type": "stream",
     "text": [
      "Download progress::  66%|████████████████████████████████████▏                  | 369/560 [04:17<00:57,  3.35tickers/s]"
     ]
    },
    {
     "name": "stdout",
     "output_type": "stream",
     "text": [
      "ntri: HTTP Error 404: Not Found\n",
      "\n"
     ]
    },
    {
     "name": "stderr",
     "output_type": "stream",
     "text": [
      "Download progress::  67%|█████████████████████████████████████                  | 377/560 [04:21<01:01,  2.99tickers/s]"
     ]
    },
    {
     "name": "stdout",
     "output_type": "stream",
     "text": [
      "nyx: HTTP Error 404: Not Found\n",
      "\n"
     ]
    },
    {
     "name": "stderr",
     "output_type": "stream",
     "text": [
      "Download progress::  69%|█████████████████████████████████████▋                 | 384/560 [04:25<00:54,  3.20tickers/s]"
     ]
    },
    {
     "name": "stdout",
     "output_type": "stream",
     "text": [
      "p: HTTP Error 404: Not Found\n",
      "\n"
     ]
    },
    {
     "name": "stderr",
     "output_type": "stream",
     "text": [
      "Download progress::  69%|█████████████████████████████████████▉                 | 386/560 [04:28<02:05,  1.39tickers/s]"
     ]
    },
    {
     "name": "stdout",
     "output_type": "stream",
     "text": [
      "pbct: HTTP Error 404: Not Found\n",
      "\n"
     ]
    },
    {
     "name": "stderr",
     "output_type": "stream",
     "text": [
      "Download progress::  70%|██████████████████████████████████████▎                | 390/560 [04:31<01:37,  1.74tickers/s]"
     ]
    },
    {
     "name": "stdout",
     "output_type": "stream",
     "text": [
      "pcl: HTTP Error 404: Not Found\n",
      "\n"
     ]
    },
    {
     "name": "stderr",
     "output_type": "stream",
     "text": [
      "\r",
      "Download progress::  70%|██████████████████████████████████████▍                | 391/560 [04:33<03:02,  1.08s/tickers]"
     ]
    },
    {
     "name": "stdout",
     "output_type": "stream",
     "text": [
      "pcln: HTTP Error 404: Not Found\n",
      "\n"
     ]
    },
    {
     "name": "stderr",
     "output_type": "stream",
     "text": [
      "\r",
      "Download progress::  70%|██████████████████████████████████████▌                | 392/560 [04:35<04:01,  1.44s/tickers]"
     ]
    },
    {
     "name": "stdout",
     "output_type": "stream",
     "text": [
      "pcp: HTTP Error 404: Not Found\n",
      "\n"
     ]
    },
    {
     "name": "stderr",
     "output_type": "stream",
     "text": [
      "Download progress::  71%|██████████████████████████████████████▉                | 396/560 [04:38<01:59,  1.38tickers/s]"
     ]
    },
    {
     "name": "stdout",
     "output_type": "stream",
     "text": [
      "petm: HTTP Error 404: Not Found\n",
      "\n"
     ]
    },
    {
     "name": "stderr",
     "output_type": "stream",
     "text": [
      "Download progress::  73%|████████████████████████████████████████▎              | 411/560 [04:44<00:38,  3.91tickers/s]"
     ]
    },
    {
     "name": "stdout",
     "output_type": "stream",
     "text": [
      "pom: HTTP Error 404: Not Found\n",
      "\n"
     ]
    },
    {
     "name": "stderr",
     "output_type": "stream",
     "text": [
      "Download progress::  75%|█████████████████████████████████████████              | 418/560 [04:48<00:44,  3.20tickers/s]"
     ]
    },
    {
     "name": "stdout",
     "output_type": "stream",
     "text": [
      "pvtb: HTTP Error 404: Not Found\n",
      "\n"
     ]
    },
    {
     "name": "stderr",
     "output_type": "stream",
     "text": [
      "Download progress::  76%|█████████████████████████████████████████▋             | 424/560 [04:51<00:47,  2.86tickers/s]"
     ]
    },
    {
     "name": "stdout",
     "output_type": "stream",
     "text": [
      "qep: HTTP Error 404: Not Found\n",
      "\n"
     ]
    },
    {
     "name": "stderr",
     "output_type": "stream",
     "text": [
      "Download progress::  76%|█████████████████████████████████████████▊             | 426/560 [04:54<01:37,  1.37tickers/s]"
     ]
    },
    {
     "name": "stdout",
     "output_type": "stream",
     "text": [
      "rai: HTTP Error 404: Not Found\n",
      "\n"
     ]
    },
    {
     "name": "stderr",
     "output_type": "stream",
     "text": [
      "\r",
      "Download progress::  76%|█████████████████████████████████████████▉             | 427/560 [04:56<02:35,  1.17s/tickers]"
     ]
    },
    {
     "name": "stdout",
     "output_type": "stream",
     "text": [
      "rdc: HTTP Error 404: Not Found\n",
      "\n"
     ]
    },
    {
     "name": "stderr",
     "output_type": "stream",
     "text": [
      "Download progress::  77%|██████████████████████████████████████████▏            | 430/560 [04:59<01:52,  1.16tickers/s]"
     ]
    },
    {
     "name": "stdout",
     "output_type": "stream",
     "text": [
      "rht: HTTP Error 404: Not Found\n",
      "\n"
     ]
    },
    {
     "name": "stderr",
     "output_type": "stream",
     "text": [
      "Download progress::  78%|██████████████████████████████████████████▉            | 437/560 [05:03<00:47,  2.57tickers/s]"
     ]
    },
    {
     "name": "stdout",
     "output_type": "stream",
     "text": [
      "rsh: HTTP Error 404: Not Found\n",
      "\n"
     ]
    },
    {
     "name": "stderr",
     "output_type": "stream",
     "text": [
      "\r",
      "Download progress::  78%|███████████████████████████████████████████            | 438/560 [05:05<01:54,  1.07tickers/s]"
     ]
    },
    {
     "name": "stdout",
     "output_type": "stream",
     "text": [
      "rtn: HTTP Error 404: Not Found\n",
      "\n"
     ]
    },
    {
     "name": "stderr",
     "output_type": "stream",
     "text": [
      "Download progress::  79%|███████████████████████████████████████████▍           | 442/560 [05:08<01:08,  1.72tickers/s]"
     ]
    },
    {
     "name": "stdout",
     "output_type": "stream",
     "text": [
      "scg: HTTP Error 404: Not Found\n",
      "\n"
     ]
    },
    {
     "name": "stderr",
     "output_type": "stream",
     "text": [
      "Download progress::  80%|████████████████████████████████████████████           | 448/560 [05:12<00:49,  2.26tickers/s]"
     ]
    },
    {
     "name": "stdout",
     "output_type": "stream",
     "text": [
      "sfly: HTTP Error 404: Not Found\n",
      "\n"
     ]
    },
    {
     "name": "stderr",
     "output_type": "stream",
     "text": [
      "\r",
      "Download progress::  80%|████████████████████████████████████████████           | 449/560 [05:14<01:47,  1.03tickers/s]"
     ]
    },
    {
     "name": "stdout",
     "output_type": "stream",
     "text": [
      "shld: HTTP Error 404: Not Found\n",
      "\n"
     ]
    },
    {
     "name": "stderr",
     "output_type": "stream",
     "text": [
      "Download progress::  81%|████████████████████████████████████████████▎          | 451/560 [05:16<01:50,  1.01s/tickers]"
     ]
    },
    {
     "name": "stdout",
     "output_type": "stream",
     "text": [
      "sial: HTTP Error 404: Not Found\n",
      "\n"
     ]
    },
    {
     "name": "stderr",
     "output_type": "stream",
     "text": [
      "Download progress::  81%|████████████████████████████████████████████▌          | 454/560 [05:19<01:29,  1.18tickers/s]"
     ]
    },
    {
     "name": "stdout",
     "output_type": "stream",
     "text": [
      "sks: HTTP Error 404: Not Found\n",
      "\n"
     ]
    },
    {
     "name": "stderr",
     "output_type": "stream",
     "text": [
      "Download progress::  82%|████████████████████████████████████████████▉          | 458/560 [05:22<01:04,  1.58tickers/s]"
     ]
    },
    {
     "name": "stdout",
     "output_type": "stream",
     "text": [
      "sndk: HTTP Error 404: Not Found\n",
      "\n"
     ]
    },
    {
     "name": "stderr",
     "output_type": "stream",
     "text": [
      "\r",
      "Download progress::  82%|█████████████████████████████████████████████          | 459/560 [05:25<01:50,  1.10s/tickers]"
     ]
    },
    {
     "name": "stdout",
     "output_type": "stream",
     "text": [
      "sne: HTTP Error 404: Not Found\n",
      "\n"
     ]
    },
    {
     "name": "stderr",
     "output_type": "stream",
     "text": [
      "\r",
      "Download progress::  82%|█████████████████████████████████████████████▏         | 460/560 [05:27<02:22,  1.42s/tickers]"
     ]
    },
    {
     "name": "stdout",
     "output_type": "stream",
     "text": [
      "sni: HTTP Error 404: Not Found\n",
      "\n"
     ]
    },
    {
     "name": "stderr",
     "output_type": "stream",
     "text": [
      "\r",
      "Download progress::  82%|█████████████████████████████████████████████▎         | 461/560 [05:29<02:44,  1.66s/tickers]"
     ]
    },
    {
     "name": "stdout",
     "output_type": "stream",
     "text": [
      "snts: HTTP Error 404: Not Found\n",
      "\n"
     ]
    },
    {
     "name": "stderr",
     "output_type": "stream",
     "text": [
      "Download progress::  83%|█████████████████████████████████████████████▌         | 464/560 [05:32<01:39,  1.04s/tickers]"
     ]
    },
    {
     "name": "stdout",
     "output_type": "stream",
     "text": [
      "spls: HTTP Error 404: Not Found\n",
      "\n"
     ]
    },
    {
     "name": "stderr",
     "output_type": "stream",
     "text": [
      "Download progress::  83%|█████████████████████████████████████████████▊         | 467/560 [05:35<01:17,  1.19tickers/s]"
     ]
    },
    {
     "name": "stdout",
     "output_type": "stream",
     "text": [
      "sti: HTTP Error 404: Not Found\n",
      "\n"
     ]
    },
    {
     "name": "stderr",
     "output_type": "stream",
     "text": [
      "\r",
      "Download progress::  84%|█████████████████████████████████████████████▉         | 468/560 [05:37<01:56,  1.27s/tickers]"
     ]
    },
    {
     "name": "stdout",
     "output_type": "stream",
     "text": [
      "stj: HTTP Error 404: Not Found\n",
      "\n"
     ]
    },
    {
     "name": "stderr",
     "output_type": "stream",
     "text": [
      "Download progress::  85%|██████████████████████████████████████████████▌        | 474/560 [05:40<00:39,  2.17tickers/s]"
     ]
    },
    {
     "name": "stdout",
     "output_type": "stream",
     "text": [
      "swy: HTTP Error 404: Not Found\n",
      "\n"
     ]
    },
    {
     "name": "stderr",
     "output_type": "stream",
     "text": [
      "Download progress::  85%|██████████████████████████████████████████████▊        | 476/560 [05:43<01:04,  1.30tickers/s]"
     ]
    },
    {
     "name": "stdout",
     "output_type": "stream",
     "text": [
      "symc: HTTP Error 404: Not Found\n",
      "\n"
     ]
    },
    {
     "name": "stderr",
     "output_type": "stream",
     "text": [
      "Download progress::  86%|███████████████████████████████████████████████▏       | 481/560 [05:46<00:39,  1.98tickers/s]"
     ]
    },
    {
     "name": "stdout",
     "output_type": "stream",
     "text": [
      "te: HTTP Error 404: Not Found\n",
      "\n"
     ]
    },
    {
     "name": "stderr",
     "output_type": "stream",
     "text": [
      "\r",
      "Download progress::  86%|███████████████████████████████████████████████▎       | 482/560 [05:48<01:20,  1.03s/tickers]"
     ]
    },
    {
     "name": "stdout",
     "output_type": "stream",
     "text": [
      "teg: HTTP Error 404: Not Found\n",
      "\n"
     ]
    },
    {
     "name": "stderr",
     "output_type": "stream",
     "text": [
      "Download progress::  87%|███████████████████████████████████████████████▊       | 487/560 [05:52<00:38,  1.91tickers/s]"
     ]
    },
    {
     "name": "stdout",
     "output_type": "stream",
     "text": [
      "tibx: HTTP Error 404: Not Found\n",
      "\n"
     ]
    },
    {
     "name": "stderr",
     "output_type": "stream",
     "text": [
      "\r",
      "Download progress::  87%|███████████████████████████████████████████████▉       | 488/560 [05:54<01:13,  1.02s/tickers]"
     ]
    },
    {
     "name": "stdout",
     "output_type": "stream",
     "text": [
      "tif: HTTP Error 404: Not Found\n",
      "\n"
     ]
    },
    {
     "name": "stderr",
     "output_type": "stream",
     "text": [
      "Download progress::  88%|████████████████████████████████████████████████▏      | 491/560 [05:57<00:57,  1.21tickers/s]"
     ]
    },
    {
     "name": "stdout",
     "output_type": "stream",
     "text": [
      "tmk: HTTP Error 404: Not Found\n",
      "\n"
     ]
    },
    {
     "name": "stderr",
     "output_type": "stream",
     "text": [
      "Download progress::  89%|████████████████████████████████████████████████▉      | 498/560 [06:00<00:23,  2.69tickers/s]"
     ]
    },
    {
     "name": "stdout",
     "output_type": "stream",
     "text": [
      "tso: HTTP Error 404: Not Found\n",
      "\n"
     ]
    },
    {
     "name": "stderr",
     "output_type": "stream",
     "text": [
      "\r",
      "Download progress::  89%|█████████████████████████████████████████████████      | 499/560 [06:03<00:57,  1.06tickers/s]"
     ]
    },
    {
     "name": "stdout",
     "output_type": "stream",
     "text": [
      "tss: HTTP Error 404: Not Found\n",
      "\n"
     ]
    },
    {
     "name": "stderr",
     "output_type": "stream",
     "text": [
      "\r",
      "Download progress::  89%|█████████████████████████████████████████████████      | 500/560 [06:05<01:20,  1.35s/tickers]"
     ]
    },
    {
     "name": "stdout",
     "output_type": "stream",
     "text": [
      "twc: HTTP Error 404: Not Found\n",
      "\n"
     ]
    },
    {
     "name": "stderr",
     "output_type": "stream",
     "text": [
      "\r",
      "Download progress::  89%|█████████████████████████████████████████████████▏     | 501/560 [06:07<01:34,  1.61s/tickers]"
     ]
    },
    {
     "name": "stdout",
     "output_type": "stream",
     "text": [
      "twx: HTTP Error 404: Not Found\n",
      "\n"
     ]
    },
    {
     "name": "stderr",
     "output_type": "stream",
     "text": [
      "Download progress::  90%|█████████████████████████████████████████████████▌     | 504/560 [06:10<00:56,  1.01s/tickers]"
     ]
    },
    {
     "name": "stdout",
     "output_type": "stream",
     "text": [
      "tyc: HTTP Error 404: Not Found\n",
      "\n"
     ]
    },
    {
     "name": "stderr",
     "output_type": "stream",
     "text": [
      "Download progress::  91%|██████████████████████████████████████████████████▎    | 512/560 [06:14<00:16,  2.94tickers/s]"
     ]
    },
    {
     "name": "stdout",
     "output_type": "stream",
     "text": [
      "utx: HTTP Error 404: Not Found\n",
      "\n"
     ]
    },
    {
     "name": "stderr",
     "output_type": "stream",
     "text": [
      "Download progress::  92%|██████████████████████████████████████████████████▌    | 515/560 [06:17<00:26,  1.68tickers/s]"
     ]
    },
    {
     "name": "stdout",
     "output_type": "stream",
     "text": [
      "var: HTTP Error 404: Not Found\n",
      "\n"
     ]
    },
    {
     "name": "stderr",
     "output_type": "stream",
     "text": [
      "Download progress::  92%|██████████████████████████████████████████████████▊    | 517/560 [06:19<00:35,  1.23tickers/s]"
     ]
    },
    {
     "name": "stdout",
     "output_type": "stream",
     "text": [
      "viab: HTTP Error 404: Not Found\n",
      "\n"
     ]
    },
    {
     "name": "stderr",
     "output_type": "stream",
     "text": [
      "\r",
      "Download progress::  92%|██████████████████████████████████████████████████▉    | 518/560 [06:21<00:52,  1.25s/tickers]"
     ]
    },
    {
     "name": "stdout",
     "output_type": "stream",
     "text": [
      "vitc: HTTP Error 404: Not Found\n",
      "\n"
     ]
    },
    {
     "name": "stderr",
     "output_type": "stream",
     "text": [
      "Download progress::  93%|███████████████████████████████████████████████████▎   | 522/560 [06:24<00:26,  1.42tickers/s]"
     ]
    },
    {
     "name": "stdout",
     "output_type": "stream",
     "text": [
      "vprt: HTTP Error 404: Not Found\n",
      "\n"
     ]
    },
    {
     "name": "stderr",
     "output_type": "stream",
     "text": [
      "Download progress::  94%|███████████████████████████████████████████████████▋   | 526/560 [06:27<00:18,  1.85tickers/s]"
     ]
    },
    {
     "name": "stdout",
     "output_type": "stream",
     "text": [
      "wag: HTTP Error 404: Not Found\n",
      "\n"
     ]
    },
    {
     "name": "stderr",
     "output_type": "stream",
     "text": [
      "Download progress::  95%|████████████████████████████████████████████████████▏  | 531/560 [06:31<00:13,  2.16tickers/s]"
     ]
    },
    {
     "name": "stdout",
     "output_type": "stream",
     "text": [
      "wfm: HTTP Error 404: Not Found\n",
      "\n"
     ]
    },
    {
     "name": "stderr",
     "output_type": "stream",
     "text": [
      "Download progress::  95%|████████████████████████████████████████████████████▍  | 534/560 [06:33<00:15,  1.66tickers/s]"
     ]
    },
    {
     "name": "stdout",
     "output_type": "stream",
     "text": [
      "win: HTTP Error 404: Not Found\n",
      "\n"
     ]
    },
    {
     "name": "stderr",
     "output_type": "stream",
     "text": [
      "\r",
      "Download progress::  96%|████████████████████████████████████████████████████▌  | 535/560 [06:36<00:27,  1.09s/tickers]"
     ]
    },
    {
     "name": "stdout",
     "output_type": "stream",
     "text": [
      "wlp: HTTP Error 404: Not Found\n",
      "\n"
     ]
    },
    {
     "name": "stderr",
     "output_type": "stream",
     "text": [
      "Download progress::  96%|████████████████████████████████████████████████████▉  | 539/560 [06:39<00:14,  1.47tickers/s]"
     ]
    },
    {
     "name": "stdout",
     "output_type": "stream",
     "text": [
      "wpo: HTTP Error 404: Not Found\n",
      "\n"
     ]
    },
    {
     "name": "stderr",
     "output_type": "stream",
     "text": [
      "\r",
      "Download progress::  96%|█████████████████████████████████████████████████████  | 540/560 [06:41<00:23,  1.17s/tickers]"
     ]
    },
    {
     "name": "stdout",
     "output_type": "stream",
     "text": [
      "wpx: HTTP Error 404: Not Found\n",
      "\n"
     ]
    },
    {
     "name": "stderr",
     "output_type": "stream",
     "text": [
      "Download progress::  97%|█████████████████████████████████████████████████████▍ | 544/560 [06:44<00:10,  1.47tickers/s]"
     ]
    },
    {
     "name": "stdout",
     "output_type": "stream",
     "text": [
      "wyn: HTTP Error 404: Not Found\n",
      "\n"
     ]
    },
    {
     "name": "stderr",
     "output_type": "stream",
     "text": [
      "Download progress::  98%|█████████████████████████████████████████████████████▉ | 549/560 [06:47<00:05,  2.06tickers/s]"
     ]
    },
    {
     "name": "stdout",
     "output_type": "stream",
     "text": [
      "xlnx: HTTP Error 404: Not Found\n",
      "\n"
     ]
    },
    {
     "name": "stderr",
     "output_type": "stream",
     "text": [
      "Download progress::  99%|██████████████████████████████████████████████████████▍| 554/560 [06:51<00:02,  2.12tickers/s]"
     ]
    },
    {
     "name": "stdout",
     "output_type": "stream",
     "text": [
      "yhoo: HTTP Error 404: Not Found\n",
      "\n"
     ]
    },
    {
     "name": "stderr",
     "output_type": "stream",
     "text": [
      "Download progress::  99%|██████████████████████████████████████████████████████▋| 557/560 [06:54<00:01,  1.54tickers/s]"
     ]
    },
    {
     "name": "stdout",
     "output_type": "stream",
     "text": [
      "zlc: HTTP Error 404: Not Found\n",
      "\n"
     ]
    },
    {
     "name": "stderr",
     "output_type": "stream",
     "text": [
      "\r",
      "Download progress:: 100%|██████████████████████████████████████████████████████▊| 558/560 [06:56<00:02,  1.10s/tickers]"
     ]
    },
    {
     "name": "stdout",
     "output_type": "stream",
     "text": [
      "zmh: HTTP Error 404: Not Found\n",
      "\n"
     ]
    },
    {
     "name": "stderr",
     "output_type": "stream",
     "text": [
      "\r",
      "Download progress:: 100%|██████████████████████████████████████████████████████▉| 559/560 [06:58<00:01,  1.44s/tickers]"
     ]
    },
    {
     "name": "stdout",
     "output_type": "stream",
     "text": [
      "znga: HTTP Error 404: Not Found\n",
      "\n"
     ]
    },
    {
     "name": "stderr",
     "output_type": "stream",
     "text": [
      "Download progress:: 100%|███████████████████████████████████████████████████████| 560/560 [07:00<00:00,  1.33tickers/s]\n"
     ]
    }
   ],
   "source": [
    "for ticker in tqdm(ticker_list, desc=\"Download progress:\", unit=\"tickers\"):\n",
    "        try:\n",
    "            link = f\"https://query2.finance.yahoo.com/v10/finance/quoteSummary/\"+ticker.upper()+\"?modules=assetProfile,financialData,defaultKeyStatistics,calendarEvents,incomeStatementHistory,cashflowStatementHistory,balanceSheetHistory\"\n",
    "            resp = urllib.request.urlopen(link).read()\n",
    "\n",
    "            # Write results to forward/\n",
    "            save = f\"forward_json/\"+str(ticker)+\".json\"\n",
    "            store = open(save,\"w\")\n",
    "            store.write(str(resp))\n",
    "            store.close()\n",
    "        except Exception as e:\n",
    "            print(f\"{ticker}: {str(e)}\\n\")\n",
    "            time.sleep(2)"
   ]
  },
  {
   "cell_type": "code",
   "execution_count": 24,
   "id": "f6eb78de",
   "metadata": {},
   "outputs": [],
   "source": [
    "gather=['debtToEquity',\n",
    "            'Trailing P/E', ## Added a custom calculation, look down\n",
    "            'priceToBook',\n",
    "            'profitMargins',\n",
    "            'operatingMargins',\n",
    "            'returnOnAssets',\n",
    "            'returnOnEquity',\n",
    "            'revenuePerShare',\n",
    "            'Market Cap', ## Leaving this here to avoid changing all the numbering for the list\n",
    "            'enterpriseValue',\n",
    "            'forwardPE',\n",
    "            'pegRatio',\n",
    "            'enterpriseToRevenue',\n",
    "            'enterpriseToEbitda',\n",
    "            'totalRevenue',\n",
    "            'grossProfit',\n",
    "            'ebitda',\n",
    "            'netIncomeToCommon',\n",
    "            'trailingEps',\n",
    "            'earningsGrowth',\n",
    "            'revenueGrowth',\n",
    "            'totalCash',\n",
    "            'totalCashPerShare',\n",
    "            'totalDebt',\n",
    "            'currentRatio',\n",
    "            'bookValue',\n",
    "            'operatingCashflow',\n",
    "            'beta',\n",
    "            'heldPercentInsiders',\n",
    "            'heldPercentInstitutions',\n",
    "            'sharesShort',\n",
    "            'shortRatio',\n",
    "            'shortPercentOfFloat',\n",
    "            'sharesShortPriorMonth',\n",
    "\t\t\t'currentPrice',\n",
    "\t\t\t'sharesOutstanding']"
   ]
  },
  {
   "cell_type": "code",
   "execution_count": 25,
   "id": "98b67b5d",
   "metadata": {},
   "outputs": [],
   "source": [
    "df = pd.DataFrame(columns = ['Date',\n",
    "'Unix',\n",
    "'Ticker',\n",
    "'Price',\n",
    "'stock_p_change',\n",
    "'SP500',\n",
    "'SP500_p_change',\n",
    "##############\n",
    "'DE Ratio',\n",
    "'Trailing P/E',\n",
    "'Price/Book',\n",
    "'Profit Margin',\n",
    "'Operating Margin',\n",
    "'Return on Assets',\n",
    "'Return on Equity',\n",
    "'Revenue Per Share',\n",
    "'Market Cap',\n",
    "'Enterprise Value',\n",
    "'Forward P/E',\n",
    "'PEG Ratio',\n",
    "'Enterprise Value/Revenue',\n",
    "'Enterprise Value/EBITDA',\n",
    "'Revenue',\n",
    "'Gross Profit',\n",
    "'EBITDA',\n",
    "'Net Income Avl to Common ',\n",
    "'Diluted EPS',\n",
    "'Earnings Growth',\n",
    "'Revenue Growth',\n",
    "'Total Cash',\n",
    "'Total Cash Per Share',\n",
    "'Total Debt',\n",
    "'Current Ratio',\n",
    "'Book Value Per Share',\n",
    "'Cash Flow',\n",
    "'Beta',\n",
    "'Held by Insiders',\n",
    "'Held by Institutions',\n",
    "'Shares Short (as of',\n",
    "'Short Ratio',\n",
    "'Short % of Float',\n",
    "'Shares Short (prior ',\n",
    "'Current Price',\n",
    "'Shares Outstanding',                              \n",
    "])"
   ]
  },
  {
   "cell_type": "code",
   "execution_count": 26,
   "id": "98e7bf6d",
   "metadata": {},
   "outputs": [],
   "source": [
    "tickerfile_list = os.listdir(\"forward_json/\")"
   ]
  },
  {
   "cell_type": "code",
   "execution_count": 27,
   "id": "53982baf",
   "metadata": {},
   "outputs": [
    {
     "name": "stderr",
     "output_type": "stream",
     "text": [
      "Parsing progress:: 100%|███████████████████████████████████████████████████████| 423/423 [00:03<00:00, 107.68tickers/s]\n"
     ]
    }
   ],
   "source": [
    " for tickerfile in tqdm(tickerfile_list, desc=\"Parsing progress:\", unit=\"tickers\"):\n",
    "        ticker = tickerfile.split(\".json\")[0].upper()\n",
    "        source = open(f\"forward_json/{tickerfile}\").read()\n",
    "        # Remove commas from the html to make parsing easier.\n",
    "        source = source.replace(\",\", \"\")\n",
    "\n",
    "        # Regex search for the different variables in the html file, then append to value_list\n",
    "        value_list = []\n",
    "        for variable in gather:\n",
    "            try:    \n",
    "\n",
    "                regex = re.escape(variable) + r'.*?\"(-?\\d{1,8}\\.\\d{1,8}M?B?K?|N/A)%?'\n",
    "                value = re.search(regex, source)\n",
    "                value = value.group(1)\n",
    "\n",
    "                if \"B\" in value:\n",
    "                    value = float(value.replace(\"B\",'')) * 1000000000\n",
    "\n",
    "                elif \"M\" in value:\n",
    "                    value = float(value.replace(\"M\",'')) * 1000000\n",
    "\n",
    "                elif \"K\" in value:\n",
    "                    value = float(value.replace(\"K\",'')) * 1000\n",
    "\n",
    "                value_list.append(value)\n",
    "\n",
    "            except Exception as e:\n",
    "                value = \"N/A\"\n",
    "                value_list.append(value)\n",
    "\n",
    "        if value_list.count(\"N/A\") > 15:\n",
    "\t\t        pass\n",
    "\n",
    "        else:\n",
    "\n",
    "            df = df.append({'Date':0,\n",
    "\t\t                        'Unix':0,\n",
    "\t\t                        'Ticker':ticker, ## Getting Only The Stock Name, not 'json'\n",
    "\t\t                        'Price':0,\n",
    "\t\t                        'stock_p_change':0,\n",
    "\t\t                        'SP500':0,\n",
    "                                'SP500_p_change':0,\n",
    "\t\t                        'DE Ratio':value_list[0],\n",
    "\t\t                        'Trailing P/E':float(value_list[34]) / float(value_list[18]) ,\n",
    "\t\t                        'Price/Book':value_list[2],\n",
    "\t\t                        'Profit Margin':value_list[3],\n",
    "\t\t                        'Operating Margin':value_list[4],\n",
    "\t\t                        'Return on Assets':value_list[5],\n",
    "\t\t                        'Return on Equity':value_list[6],\n",
    "\t\t                        'Revenue Per Share':value_list[7],\n",
    "\t\t                        'Market Cap': float(value_list[35]) * float(value_list[34]) , #Multiplying Shares Outstanding * Current Price to determine Market Cap\n",
    "\t\t                        'Enterprise Value':value_list[9],\n",
    "\t\t                        'Forward P/E':value_list[10],\n",
    "\t\t                        'PEG Ratio':value_list[11],\n",
    "\t\t                        'Enterprise Value/Revenue':value_list[12],\n",
    "\t\t                        'Enterprise Value/EBITDA':value_list[13],\n",
    "\t\t                        'Revenue':value_list[14],\n",
    "\t\t                        'Gross Profit':value_list[15],\n",
    "\t\t                        'EBITDA':value_list[16],\n",
    "\t\t                        'Net Income Avl to Common ':value_list[17],\n",
    "\t\t                        'Diluted EPS':value_list[18],\n",
    "\t\t                        'Earnings Growth':value_list[19],\n",
    "\t\t                        'Revenue Growth':value_list[20],\n",
    "\t\t                        'Total Cash':value_list[21],\n",
    "\t\t                        'Total Cash Per Share':value_list[22],\n",
    "\t\t                        'Total Debt':value_list[23],\n",
    "\t\t                        'Current Ratio':value_list[24],\n",
    "\t\t                        'Book Value Per Share':value_list[25],\n",
    "\t\t                        'Cash Flow':value_list[26],\n",
    "\t\t                        'Beta':value_list[27],\n",
    "\t\t                        'Held by Insiders':value_list[28],\n",
    "\t\t                        'Held by Institutions':value_list[29],\n",
    "\t\t                        'Shares Short (as of':value_list[30],\n",
    "\t\t                        'Short Ratio':value_list[31],\n",
    "\t\t                        'Short % of Float':value_list[32],\n",
    "\t\t                        'Shares Short (prior ':value_list[33],\n",
    "                                'Current Price': value_list[34],\n",
    "                                'Shares Outstanding': value_list[35]}, ignore_index = True)\n",
    "df.to_csv(\"forward_sample.csv\", index=False)"
   ]
  },
  {
   "cell_type": "code",
   "execution_count": 28,
   "id": "b94bb0e6",
   "metadata": {},
   "outputs": [],
   "source": [
    "# The percentage by which a stock has to beat the S&P500 to be considered a 'buy'\n",
    "OUTPERFORMANCE = 10\n",
    "\n",
    "\n",
    "def build_data_set():\n",
    "    \"\"\"\n",
    "    Reads the keystats.csv file and prepares it for scikit-learn\n",
    "    :return: X_train and y_train numpy arrays\n",
    "    \"\"\"\n",
    "    data_df = pd.read_csv(\"keystats.csv\")\n",
    "    data_df.drop_duplicates()\n",
    "    data_df.dropna(inplace=True)\n",
    "    data_df = data_df.reindex(np.random.permutation(data_df.index))\n",
    "    features = data_df.columns[7:]\n",
    "    X = np.array(data_df[features].values)\n",
    "    X_train = data_df[features].values\n",
    "    # Generate the labels: '1' if a stock beats the S&P500 by more than 10%, else '0'.\n",
    "    y_train = list(\n",
    "        status_calc(\n",
    "            data_df[\"stock_p_change\"],\n",
    "            data_df[\"SP500_p_change\"],\n",
    "            OUTPERFORMANCE,\n",
    "        )\n",
    "    )\n",
    "\n",
    "    return X_train, y_train"
   ]
  },
  {
   "cell_type": "code",
   "execution_count": 29,
   "id": "837cee73",
   "metadata": {},
   "outputs": [
    {
     "name": "stdout",
     "output_type": "stream",
     "text": [
      "102 stocks predicted to outperform the S&P500 by more than 10%:\n",
      "S AZO BBBY IGT ORLY DKS NUE BEAM FOSL NLY AEO HCP PBI GES WHR PLL SWN LLL BLK GPS GCI WU ALTR GME RL AIV BA PX TRIP APA HTZ HUM MAC BIG SAI LRCX WYNN ADT M CB OI BWA NILE CLDX CRM WTW RHI BTU NOK R WGO SD CNX HOV X GRPN PETS MAS CAMP AA GNW QDEL AN GS YUM CAH AIZ MON CLF HPQ DELL JWN CMI XRX CHK DDS CCL LH LIFE NE NBR TDC KSS INTU MTB EXPR ABC SCHL MSI SLM FTI BIIB GT MOS DO ANF PH UA AMP XL DLX SEE\n"
     ]
    }
   ],
   "source": [
    "X_train, y_train = build_data_set()\n",
    "\n",
    "clf = RandomForestClassifier(n_estimators=100, random_state=0, criterion = \"log_loss\")\n",
    "clf.fit(X_train, y_train)\n",
    "\n",
    "    # Now we get the actual data from which we want to generate predictions.\n",
    "data = pd.read_csv(\"forward_sample.csv\")\n",
    "data.dropna(inplace=True)\n",
    "data.drop_duplicates()\n",
    "data= data.reindex(np.random.permutation(data.index))\n",
    "features = data.columns[7:]\n",
    "X_test = data[features].values\n",
    "z = data[\"Ticker\"].values\n",
    "\n",
    "    # Get the predicted tickers\n",
    "y_pred = clf.predict(X_test)\n",
    "if sum(y_pred) == 0:\n",
    "    print(\"No stocks predicted!\")\n",
    "else:\n",
    "    invest_list = z[y_pred].tolist()\n",
    "    pList = [*set(invest_list)]\n",
    "    print(\n",
    "        f\"{len(pList)} stocks predicted to outperform the S&P500 by more than {OUTPERFORMANCE}%:\"\n",
    "    )\n",
    "    print(\" \".join(pList))"
   ]
  },
  {
   "cell_type": "code",
   "execution_count": 30,
   "id": "beceec04",
   "metadata": {},
   "outputs": [
    {
     "name": "stdout",
     "output_type": "stream",
     "text": [
      "Epoch 1/100\n",
      "111/111 [==============================] - 8s 36ms/step - loss: 0.2275\n",
      "Epoch 2/100\n",
      "111/111 [==============================] - 4s 36ms/step - loss: 0.2250\n",
      "Epoch 3/100\n",
      "111/111 [==============================] - 4s 36ms/step - loss: 0.2232\n",
      "Epoch 4/100\n",
      "111/111 [==============================] - 4s 36ms/step - loss: 0.2212\n",
      "Epoch 5/100\n",
      "111/111 [==============================] - 4s 36ms/step - loss: 0.2214\n",
      "Epoch 6/100\n",
      "111/111 [==============================] - 4s 36ms/step - loss: 0.2207\n",
      "Epoch 7/100\n",
      "111/111 [==============================] - 4s 36ms/step - loss: 0.2208\n",
      "Epoch 8/100\n",
      "111/111 [==============================] - 4s 36ms/step - loss: 0.2202\n",
      "Epoch 9/100\n",
      "111/111 [==============================] - 4s 36ms/step - loss: 0.2205\n",
      "Epoch 10/100\n",
      "111/111 [==============================] - 4s 36ms/step - loss: 0.2200\n",
      "Epoch 11/100\n",
      "111/111 [==============================] - 4s 36ms/step - loss: 0.2194\n",
      "Epoch 12/100\n",
      "111/111 [==============================] - 4s 36ms/step - loss: 0.2198\n",
      "Epoch 13/100\n",
      "111/111 [==============================] - 4s 36ms/step - loss: 0.2203\n",
      "Epoch 14/100\n",
      "111/111 [==============================] - 4s 36ms/step - loss: 0.2192\n",
      "Epoch 15/100\n",
      "111/111 [==============================] - 4s 36ms/step - loss: 0.2194\n",
      "Epoch 16/100\n",
      "111/111 [==============================] - 4s 36ms/step - loss: 0.2201\n",
      "Epoch 17/100\n",
      "111/111 [==============================] - 4s 36ms/step - loss: 0.2192\n",
      "Epoch 18/100\n",
      "111/111 [==============================] - 4s 36ms/step - loss: 0.2192\n",
      "Epoch 19/100\n",
      "111/111 [==============================] - 4s 36ms/step - loss: 0.2195\n",
      "Epoch 20/100\n",
      "111/111 [==============================] - 4s 36ms/step - loss: 0.2206\n",
      "Epoch 21/100\n",
      "111/111 [==============================] - 4s 36ms/step - loss: 0.2196\n",
      "Epoch 22/100\n",
      "111/111 [==============================] - 4s 36ms/step - loss: 0.2188\n",
      "Epoch 23/100\n",
      "111/111 [==============================] - 4s 36ms/step - loss: 0.2194\n",
      "Epoch 24/100\n",
      "111/111 [==============================] - 4s 36ms/step - loss: 0.2201\n",
      "Epoch 25/100\n",
      "111/111 [==============================] - 4s 36ms/step - loss: 0.2185\n",
      "Epoch 26/100\n",
      "111/111 [==============================] - 4s 36ms/step - loss: 0.2168\n",
      "Epoch 27/100\n",
      "111/111 [==============================] - 4s 36ms/step - loss: 0.2180\n",
      "Epoch 28/100\n",
      "111/111 [==============================] - 4s 36ms/step - loss: 0.2182\n",
      "Epoch 29/100\n",
      "111/111 [==============================] - 4s 36ms/step - loss: 0.2179\n",
      "Epoch 30/100\n",
      "111/111 [==============================] - 4s 36ms/step - loss: 0.2178\n",
      "Epoch 31/100\n",
      "111/111 [==============================] - 4s 36ms/step - loss: 0.2173\n",
      "Epoch 32/100\n",
      "111/111 [==============================] - 4s 36ms/step - loss: 0.2182\n",
      "Epoch 33/100\n",
      "111/111 [==============================] - 4s 36ms/step - loss: 0.2176\n",
      "Epoch 34/100\n",
      "111/111 [==============================] - 4s 36ms/step - loss: 0.2171\n",
      "Epoch 35/100\n",
      "111/111 [==============================] - 4s 36ms/step - loss: 0.2177\n",
      "Epoch 36/100\n",
      "111/111 [==============================] - 4s 36ms/step - loss: 0.2169\n",
      "Epoch 37/100\n",
      "111/111 [==============================] - 4s 36ms/step - loss: 0.2176\n",
      "Epoch 38/100\n",
      "111/111 [==============================] - 4s 36ms/step - loss: 0.2169\n",
      "Epoch 39/100\n",
      "111/111 [==============================] - 4s 36ms/step - loss: 0.2168\n",
      "Epoch 40/100\n",
      "111/111 [==============================] - 4s 36ms/step - loss: 0.2177\n",
      "Epoch 41/100\n",
      "111/111 [==============================] - 4s 36ms/step - loss: 0.2176\n",
      "Epoch 42/100\n",
      "111/111 [==============================] - 4s 36ms/step - loss: 0.2162\n",
      "Epoch 43/100\n",
      "111/111 [==============================] - 4s 36ms/step - loss: 0.2167\n",
      "Epoch 44/100\n",
      "111/111 [==============================] - 4s 37ms/step - loss: 0.2171\n",
      "Epoch 45/100\n",
      "111/111 [==============================] - 4s 36ms/step - loss: 0.2164\n",
      "Epoch 46/100\n",
      "111/111 [==============================] - 4s 36ms/step - loss: 0.2183\n",
      "Epoch 47/100\n",
      "111/111 [==============================] - 4s 36ms/step - loss: 0.2172\n",
      "Epoch 48/100\n",
      "111/111 [==============================] - 4s 36ms/step - loss: 0.2166\n",
      "Epoch 49/100\n",
      "111/111 [==============================] - 4s 36ms/step - loss: 0.2166\n",
      "Epoch 50/100\n",
      "111/111 [==============================] - 4s 36ms/step - loss: 0.2176\n",
      "Epoch 51/100\n",
      "111/111 [==============================] - 4s 36ms/step - loss: 0.2173\n",
      "Epoch 52/100\n",
      "111/111 [==============================] - 4s 36ms/step - loss: 0.2168\n",
      "Epoch 53/100\n",
      "111/111 [==============================] - 4s 37ms/step - loss: 0.2167\n",
      "Epoch 54/100\n",
      "111/111 [==============================] - 4s 36ms/step - loss: 0.2159\n",
      "Epoch 55/100\n",
      "111/111 [==============================] - 4s 36ms/step - loss: 0.2161\n",
      "Epoch 56/100\n",
      "111/111 [==============================] - 4s 36ms/step - loss: 0.2166\n",
      "Epoch 57/100\n",
      "111/111 [==============================] - 4s 36ms/step - loss: 0.2179\n",
      "Epoch 58/100\n",
      "111/111 [==============================] - 4s 36ms/step - loss: 0.2159\n",
      "Epoch 59/100\n",
      "111/111 [==============================] - 4s 36ms/step - loss: 0.2160\n",
      "Epoch 60/100\n",
      "111/111 [==============================] - 4s 36ms/step - loss: 0.2165\n",
      "Epoch 61/100\n",
      "111/111 [==============================] - 4s 36ms/step - loss: 0.2154\n",
      "Epoch 62/100\n",
      "111/111 [==============================] - 4s 36ms/step - loss: 0.2161\n",
      "Epoch 63/100\n",
      "111/111 [==============================] - 4s 36ms/step - loss: 0.2163\n",
      "Epoch 64/100\n",
      "111/111 [==============================] - 4s 36ms/step - loss: 0.2173\n",
      "Epoch 65/100\n",
      "111/111 [==============================] - 4s 36ms/step - loss: 0.2155\n",
      "Epoch 66/100\n",
      "111/111 [==============================] - 4s 36ms/step - loss: 0.2161\n",
      "Epoch 67/100\n",
      "111/111 [==============================] - 4s 36ms/step - loss: 0.2156\n",
      "Epoch 68/100\n",
      "111/111 [==============================] - 4s 36ms/step - loss: 0.2152\n",
      "Epoch 69/100\n",
      "111/111 [==============================] - 4s 36ms/step - loss: 0.2156\n",
      "Epoch 70/100\n",
      "111/111 [==============================] - 4s 36ms/step - loss: 0.2173\n",
      "Epoch 71/100\n",
      "111/111 [==============================] - 4s 36ms/step - loss: 0.2157\n",
      "Epoch 72/100\n",
      "111/111 [==============================] - 4s 36ms/step - loss: 0.2147\n",
      "Epoch 73/100\n",
      "111/111 [==============================] - 4s 36ms/step - loss: 0.2150\n",
      "Epoch 74/100\n",
      "111/111 [==============================] - 4s 36ms/step - loss: 0.2160\n",
      "Epoch 75/100\n",
      "111/111 [==============================] - 4s 36ms/step - loss: 0.2149\n",
      "Epoch 76/100\n",
      "111/111 [==============================] - 4s 36ms/step - loss: 0.2146\n",
      "Epoch 77/100\n",
      "111/111 [==============================] - 4s 36ms/step - loss: 0.2145\n",
      "Epoch 78/100\n",
      "111/111 [==============================] - 4s 36ms/step - loss: 0.2149\n",
      "Epoch 79/100\n",
      "111/111 [==============================] - 4s 36ms/step - loss: 0.2161\n",
      "Epoch 80/100\n",
      "111/111 [==============================] - 4s 37ms/step - loss: 0.2149\n",
      "Epoch 81/100\n",
      "111/111 [==============================] - 4s 36ms/step - loss: 0.2146\n",
      "Epoch 82/100\n",
      "111/111 [==============================] - 4s 36ms/step - loss: 0.2152\n",
      "Epoch 83/100\n",
      "111/111 [==============================] - 4s 36ms/step - loss: 0.2145\n",
      "Epoch 84/100\n",
      "111/111 [==============================] - 4s 36ms/step - loss: 0.2151\n",
      "Epoch 85/100\n",
      "111/111 [==============================] - 4s 36ms/step - loss: 0.2157\n",
      "Epoch 86/100\n",
      "111/111 [==============================] - 4s 36ms/step - loss: 0.2151\n",
      "Epoch 87/100\n",
      "111/111 [==============================] - 4s 36ms/step - loss: 0.2140\n",
      "Epoch 88/100\n",
      "111/111 [==============================] - 4s 36ms/step - loss: 0.2134\n",
      "Epoch 89/100\n",
      "111/111 [==============================] - 4s 36ms/step - loss: 0.2137\n",
      "Epoch 90/100\n",
      "111/111 [==============================] - 4s 37ms/step - loss: 0.2139\n",
      "Epoch 91/100\n",
      "111/111 [==============================] - 4s 36ms/step - loss: 0.2139\n",
      "Epoch 92/100\n",
      "111/111 [==============================] - 4s 36ms/step - loss: 0.2125\n",
      "Epoch 93/100\n",
      "111/111 [==============================] - 4s 36ms/step - loss: 0.2131\n",
      "Epoch 94/100\n",
      "111/111 [==============================] - 4s 36ms/step - loss: 0.2116\n",
      "Epoch 95/100\n",
      "111/111 [==============================] - 4s 36ms/step - loss: 0.2123\n",
      "Epoch 96/100\n",
      "111/111 [==============================] - 4s 36ms/step - loss: 0.2119\n",
      "Epoch 97/100\n",
      "111/111 [==============================] - 4s 36ms/step - loss: 0.2117\n",
      "Epoch 98/100\n"
     ]
    },
    {
     "name": "stdout",
     "output_type": "stream",
     "text": [
      "111/111 [==============================] - 4s 36ms/step - loss: 0.2096\n",
      "Epoch 99/100\n",
      "111/111 [==============================] - 4s 36ms/step - loss: 0.2113\n",
      "Epoch 100/100\n",
      "111/111 [==============================] - 4s 37ms/step - loss: 0.2104\n",
      "111/111 [==============================] - 2s 13ms/step\n"
     ]
    },
    {
     "data": {
      "text/plain": [
       "array([[0.33777282],\n",
       "       [0.44410145],\n",
       "       [0.3812386 ],\n",
       "       ...,\n",
       "       [0.08561456],\n",
       "       [0.6341475 ],\n",
       "       [0.34800845]], dtype=float32)"
      ]
     },
     "metadata": {},
     "output_type": "display_data"
    }
   ],
   "source": [
    "OUTPERFORMANCE = 10\n",
    "data_df = pd.read_csv(\"keystats.csv\")\n",
    "data_df.drop_duplicates()\n",
    "data_df.dropna(inplace=True)\n",
    "data_df = data_df.reindex(np.random.permutation(data_df.index))\n",
    "features = data_df.columns[7:]\n",
    "X = np.array(data_df[features].values)\n",
    "sc = MinMaxScaler(feature_range=(0,1))\n",
    "X = sc.fit_transform(X)\n",
    "y_train = np.array(\n",
    "    status_calc(\n",
    "        data_df[\"stock_p_change\"],\n",
    "        data_df[\"SP500_p_change\"],\n",
    "        OUTPERFORMANCE,\n",
    "    )\n",
    ")\n",
    "y_train = y_train.astype(int)\n",
    "model = Sequential()\n",
    "model.add(LSTM(units=50,return_sequences=True,input_shape=(X.shape[1], 1)))\n",
    "model.add(Dropout(0.2))\n",
    "model.add(LSTM(units=50,return_sequences=True))\n",
    "model.add(Dropout(0.2))\n",
    "model.add(LSTM(units=50,return_sequences=True))\n",
    "model.add(Dropout(0.2))\n",
    "model.add(LSTM(units=50))\n",
    "model.add(Dropout(0.2))\n",
    "model.add(Dense(units=1))\n",
    "model.compile(optimizer='adam',loss='mean_squared_error')\n",
    "model.fit(X,y_train,epochs=100,batch_size=32)\n",
    "y_pred = model.predict(X)\n",
    "display(y_pred)"
   ]
  },
  {
   "cell_type": "code",
   "execution_count": null,
   "id": "a3615427",
   "metadata": {},
   "outputs": [],
   "source": []
  }
 ],
 "metadata": {
  "kernelspec": {
   "display_name": "Python 3 (ipykernel)",
   "language": "python",
   "name": "python3"
  },
  "language_info": {
   "codemirror_mode": {
    "name": "ipython",
    "version": 3
   },
   "file_extension": ".py",
   "mimetype": "text/x-python",
   "name": "python",
   "nbconvert_exporter": "python",
   "pygments_lexer": "ipython3",
   "version": "3.10.6"
  }
 },
 "nbformat": 4,
 "nbformat_minor": 5
}
